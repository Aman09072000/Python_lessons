{
 "cells": [
  {
   "cell_type": "markdown",
   "metadata": {},
   "source": [
    "# Learn_Python_with_Me"
   ]
  },
  {
   "cell_type": "markdown",
   "metadata": {},
   "source": [
    "       #By - Aman Gupta                                     Date- 29/05/20 "
   ]
  },
  {
   "cell_type": "markdown",
   "metadata": {},
   "source": [
    "# Python Tuples"
   ]
  },
  {
   "cell_type": "code",
   "execution_count": null,
   "metadata": {},
   "outputs": [],
   "source": [
    "\"\"\"A tuple is a collection which is ordered and unchangeable. In Python tuples are written \n",
    "with round brackets.\"\"\"\n",
    "\n",
    "x= (\"apple\", \"banana\", \"cherry\")\n",
    "print(x)"
   ]
  },
  {
   "cell_type": "code",
   "execution_count": null,
   "metadata": {},
   "outputs": [],
   "source": [
    "#access the tuple items by referring to the index number:-\n",
    "\n",
    "#positive indexing\n",
    "print(x[0])     #its indexing is start from 0. it is like 0 1 2 3 4 5...\n",
    "print(x[3])    #so the first element is zero and so on.\n",
    "\n",
    "#negative indexing\n",
    "#Negative indexing means beginning from the end, -1 refers to the last item\n",
    "\n",
    "print(x[-1])      #he negative start with the last , so ther last element has value -1.\n",
    "print(x[-3])       # its value be like ....-4 -3 -2 -1.\n"
   ]
  },
  {
   "cell_type": "code",
   "execution_count": 1,
   "metadata": {},
   "outputs": [
    {
     "name": "stdout",
     "output_type": "stream",
     "text": [
      "('apple', 'banana', 'cat')\n",
      "('apple', 'banana', 'cat', 'dog')\n",
      "('dog', 35, 4.7, 57j)\n",
      "('apple', 'banana', 'cat', 'dog', 35, 4.7, 57j)\n",
      "('dog', 35, 4.7)\n",
      "('apple', 'banana', 'cat', 'dog', 35, 4.7)\n",
      "('dog', 35, 4.7, 57j)\n",
      "(57j, 4.7, 35, 'dog', 'cat', 'banana', 'apple')\n"
     ]
    }
   ],
   "source": [
    "#Range of Indexes:-\n",
    "\n",
    "\"\"\"You can specify a range of indexes by specifying where to start and where to end the range.\n",
    "When specifying a range, the return value will be a new tuple with the specified items.\n",
    "\"\"\"\n",
    "x=(\"apple\",\"banana\",\"cat\",\"dog\",35,4.7,57j)\n",
    "print(x[0:3])  # we will sperate starting and ending position by (:)colon.\n",
    "#it will start with 0 index and end index 3 but the 3 index value will not include.\n",
    "\n",
    "print(x[:4]) #it will print all values from 0 to 4. but 4 is not included.\n",
    "print(x[3:])  #it will print all values from 3 to the end index.\n",
    "print(x[:])  #it will all values from 1 index to last index.\n",
    "     #APNI TRICK:- [small value : large value] otherwise error. apply in all\n",
    "\n",
    "#negative indexing.\n",
    "print(x[-4:-1])  #it will also not include -1 index value \n",
    "print(x[:-1])  #print all except -1 index value\n",
    "print(x[-4:])   #print all value from index -4 to -1 (it will also print here)\n",
    "\n",
    "print(x[::-1])  #it will reverse the tuple\n"
   ]
  },
  {
   "cell_type": "code",
   "execution_count": 3,
   "metadata": {},
   "outputs": [
    {
     "name": "stdout",
     "output_type": "stream",
     "text": [
      "('apple', 'kiwi', 'cherry')\n",
      "apple\n",
      "banana\n",
      "cherry\n",
      "Yes, 'apple' is in the fruits tuple\n",
      "3\n",
      "<class 'tuple'>\n",
      "<class 'str'>\n"
     ]
    },
    {
     "ename": "TypeError",
     "evalue": "'tuple' object does not support item assignment",
     "output_type": "error",
     "traceback": [
      "\u001b[1;31m---------------------------------------------------------------------------\u001b[0m",
      "\u001b[1;31mTypeError\u001b[0m                                 Traceback (most recent call last)",
      "\u001b[1;32m<ipython-input-3-2b129e9691f4>\u001b[0m in \u001b[0;36m<module>\u001b[1;34m\u001b[0m\n\u001b[0;32m     44\u001b[0m \u001b[1;34m\"\"\"Once a tuple is created, you cannot add items to it. Tuples are unchangeable\"\"\"\u001b[0m\u001b[1;33m\u001b[0m\u001b[1;33m\u001b[0m\u001b[0m\n\u001b[0;32m     45\u001b[0m \u001b[0mthistuple\u001b[0m \u001b[1;33m=\u001b[0m \u001b[1;33m(\u001b[0m\u001b[1;34m\"apple\"\u001b[0m\u001b[1;33m,\u001b[0m \u001b[1;34m\"banana\"\u001b[0m\u001b[1;33m,\u001b[0m \u001b[1;34m\"cherry\"\u001b[0m\u001b[1;33m)\u001b[0m\u001b[1;33m\u001b[0m\u001b[1;33m\u001b[0m\u001b[0m\n\u001b[1;32m---> 46\u001b[1;33m \u001b[0mthistuple\u001b[0m\u001b[1;33m[\u001b[0m\u001b[1;36m3\u001b[0m\u001b[1;33m]\u001b[0m \u001b[1;33m=\u001b[0m \u001b[1;34m\"orange\"\u001b[0m \u001b[1;31m# This will raise an error\u001b[0m\u001b[1;33m\u001b[0m\u001b[1;33m\u001b[0m\u001b[0m\n\u001b[0m\u001b[0;32m     47\u001b[0m \u001b[0mprint\u001b[0m\u001b[1;33m(\u001b[0m\u001b[0mthistuple\u001b[0m\u001b[1;33m)\u001b[0m\u001b[1;33m\u001b[0m\u001b[1;33m\u001b[0m\u001b[0m\n\u001b[0;32m     48\u001b[0m \u001b[1;33m\u001b[0m\u001b[0m\n",
      "\u001b[1;31mTypeError\u001b[0m: 'tuple' object does not support item assignment"
     ]
    }
   ],
   "source": [
    "#tuple-tricks\n",
    "\n",
    "#Change Tuple Values\n",
    "\"\"\"Once a tuple is created, you cannot change its values. Tuples are unchangeable, or immutable\n",
    "as it also is called.\n",
    "But there is a workaround. You can convert the tuple into a list, change the list, and\n",
    "convert the list back into a tuple.\"\"\"\n",
    "x = (\"apple\", \"banana\", \"cherry\")\n",
    "y = list(x)\n",
    "y[1] = \"kiwi\"\n",
    "x = tuple(y)\n",
    "print(x)\n",
    "\n",
    "\n",
    "#Loop Through a Tuple\n",
    "\"\"\"You can loop through the tuple items by using a for loop.\"\"\"\n",
    "thistuple = (\"apple\", \"banana\", \"cherry\")\n",
    "for x in thistuple:\n",
    "  print(x)\n",
    "\n",
    "#Check if Item Exists\n",
    "\"\"\"To determine if a specified item is present in a tuple use the in keyword\"\"\"\n",
    "thistuple = (\"apple\", \"banana\", \"cherry\")\n",
    "if \"apple\" in thistuple:\n",
    "  print(\"Yes, 'apple' is in the fruits tuple\")\n",
    "\n",
    "#Tuple Length\n",
    "\"\"\"To determine how many items a tuple has, use the len() method:\"\"\"\n",
    "thistuple = (\"apple\", \"banana\", \"cherry\")\n",
    "print(len(thistuple))\n",
    "\n",
    "\n",
    "#Create Tuple With One Item\n",
    "\"\"\"To create a tuple with only one item, you have to add a comma after the item, otherwise \n",
    "Python will not recognize it as a tuple.\"\"\"\n",
    "thistuple = (\"apple\",)\n",
    "print(type(thistuple))\n",
    "#NOT a tuple\n",
    "thistuple = (\"apple\")\n",
    "print(type(thistuple))\n",
    "\n",
    "\n",
    "#Add Items\n",
    "\"\"\"Once a tuple is created, you cannot add items to it. Tuples are unchangeable\"\"\"\n",
    "thistuple = (\"apple\", \"banana\", \"cherry\")\n",
    "thistuple[3] = \"orange\" # This will raise an error\n",
    "print(thistuple)\n",
    "\n",
    "\n",
    "#Remove Items\n",
    "\"\"\"Tuples are unchangeable, so you cannot remove items from it, but you can delete the tuple\n",
    "completely:\"\"\"\n",
    "thistuple = (\"apple\", \"banana\", \"cherry\")\n",
    "del thistuple\n",
    "print(thistuple) #this will raise an error because the tuple no longer exists\n",
    "\n",
    "\n",
    "#Join Two Tuples\n",
    "\"\"\"To join two or more tuples you can use the + operator:\"\"\"\n",
    "tuple1 = (\"a\", \"b\" , \"c\")\n",
    "tuple2 = (1, 2, 3)\n",
    "tuple3 = tuple1 + tuple2\n",
    "print(tuple3)\n",
    "\n",
    "\n",
    "#The tuple() Constructor\n",
    "\"\"\"It is also possible to use the tuple() constructor to make a tuple.\"\"\"\n",
    "thistuple = tuple((\"apple\", \"banana\", \"cherry\")) # note the double round-brackets\n",
    "print(thistuple)"
   ]
  },
  {
   "cell_type": "code",
   "execution_count": null,
   "metadata": {},
   "outputs": [],
   "source": [
    "#Tuple Methods\n",
    "\"\"\"Python has two built-in methods that you can use on tuples.\"\"\"\n",
    "Method\t                                                      Description\n",
    "\n",
    "count()\t                         Returns the number of times a specified value occurs in a tuple\n",
    "index()\t                      Searches the tuple for a specified value and returns the position\n",
    "                                                     of where it was found\n"
   ]
  },
  {
   "cell_type": "code",
   "execution_count": null,
   "metadata": {},
   "outputs": [],
   "source": []
  }
 ],
 "metadata": {
  "kernelspec": {
   "display_name": "Python 3",
   "language": "python",
   "name": "python3"
  },
  "language_info": {
   "codemirror_mode": {
    "name": "ipython",
    "version": 3
   },
   "file_extension": ".py",
   "mimetype": "text/x-python",
   "name": "python",
   "nbconvert_exporter": "python",
   "pygments_lexer": "ipython3",
   "version": "3.7.6"
  }
 },
 "nbformat": 4,
 "nbformat_minor": 4
}
