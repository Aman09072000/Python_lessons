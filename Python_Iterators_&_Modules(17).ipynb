{
 "cells": [
  {
   "cell_type": "markdown",
   "metadata": {},
   "source": [
    "# Learn_Pyhon_with_Me"
   ]
  },
  {
   "cell_type": "markdown",
   "metadata": {},
   "source": [
    "          #By - Aman Gupta                                               Date-31/05/20 "
   ]
  },
  {
   "cell_type": "markdown",
   "metadata": {},
   "source": [
    "# Python_Iterators"
   ]
  },
  {
   "cell_type": "code",
   "execution_count": null,
   "metadata": {},
   "outputs": [],
   "source": [
    "\"\"\"An iterator is an object that contains a countable number of values.\n",
    "An iterator is an object that can be iterated upon, meaning that you can traverse through \n",
    "all the values.\n",
    "Technically, in Python, an iterator is an object which implements the iterator protocol,\n",
    "which consist of the methods __iter__() and __next__().\"\"\""
   ]
  },
  {
   "cell_type": "code",
   "execution_count": null,
   "metadata": {},
   "outputs": [],
   "source": [
    "#Iterator vs Iterable:-\n",
    "\n",
    "\"\"\"Lists, tuples, dictionaries, and sets are all iterable objects. They are iterable containers\n",
    "which you can get an iterator from.\n",
    "All these objects have a iter() method which is used to get an iterator:\"\"\"\n",
    "\n",
    "mytuple = (\"apple\", \"banana\", \"cherry\")\n",
    "myit = iter(mytuple)    #here we use iter() mehod.\n",
    "\n",
    "print(next(myit))       #here w print elements\n",
    "print(next(myit))\n",
    "print(next(myit))\n"
   ]
  },
  {
   "cell_type": "code",
   "execution_count": null,
   "metadata": {},
   "outputs": [],
   "source": [
    "#Even strings are iterable objects, and can return an iterator:\n",
    "\n",
    "x=\"banana\"\n",
    "a=iter(x)\n",
    "for i in range(len(x)):\n",
    "    print(next(a))"
   ]
  },
  {
   "cell_type": "code",
   "execution_count": null,
   "metadata": {},
   "outputs": [],
   "source": [
    "#Looping Through an Iterator:-\n",
    "mytuple = (\"apple\", \"banana\", \"cherry\")\n",
    "for x in mytuple:\n",
    "    print(x)\n",
    "                                  #Iterate the values here\n",
    "mystr = \"banana\"\n",
    "for x in mystr:\n",
    "  print(x)\n",
    "\n",
    "#the for loop actually creates an iterator object and executes the next() method for each loop."
   ]
  },
  {
   "cell_type": "code",
   "execution_count": null,
   "metadata": {},
   "outputs": [],
   "source": [
    "#Create an Iterator:-\n",
    "\n",
    "\"\"\"To create an object/class as an iterator you have to implement the methods __iter__()\n",
    "and __next__() to your object.\n",
    "\n",
    "As you have learned in the Python Classes/Objects chapter, all classes have a function \n",
    "called __init__(), which allows you to do some initializing when the object is being created.\n",
    "\n",
    "The __iter__() method acts similar, you can do operations (initializing etc.), but must\n",
    "always return the iterator object itself.\n",
    "\n",
    "The __next__() method also allows you to do operations, and must return the next item in the\n",
    "sequence.\"\"\"\n",
    "\n",
    "class MyNumbers:\n",
    "  def __iter__(self):\n",
    "    self.a = 1\n",
    "    return self\n",
    "\n",
    "  def __next__(self):\n",
    "    x = self.a\n",
    "    self.a += 1\n",
    "    return x\n",
    "\n",
    "myclass = MyNumbers()\n",
    "myiter = iter(myclass)\n",
    "\n",
    "print(next(myiter))\n",
    "print(next(myiter))\n",
    "print(next(myiter))\n",
    "print(next(myiter))\n",
    "print(next(myiter))\n",
    "\n",
    "\"\"\"Create an iterator that returns numbers, starting with 1, and each sequence will increase\n",
    "by one (returning 1,2,3,4,5 etc.):\"\"\""
   ]
  },
  {
   "cell_type": "code",
   "execution_count": null,
   "metadata": {},
   "outputs": [],
   "source": [
    "#StopIteration:-\n",
    "\n",
    "\"\"\"The example above would continue forever if you had enough next() statements, or if it\n",
    "was used in a for loop.\n",
    "To prevent the iteration to go on forever, we can use the StopIteration statement.\n",
    "In the __next__() method, we can add a terminating condition to raise an error if the \n",
    "iteration is done a specified number of times:\"\"\"\n",
    "\n",
    "class MyNumbers:\n",
    "  def __iter__(self):\n",
    "    self.a = 1\n",
    "    return self\n",
    "\n",
    "  def __next__(self):\n",
    "    if self.a <= 20:\n",
    "      x = self.a\n",
    "      self.a += 1\n",
    "      return x               #Stop after 20 iterations\n",
    "    else:\n",
    "      raise StopIteration\n",
    "\n",
    "myclass = MyNumbers()\n",
    "myiter = iter(myclass)\n",
    "\n",
    "for x in myiter:\n",
    "  print(x)\n"
   ]
  },
  {
   "cell_type": "markdown",
   "metadata": {},
   "source": [
    "# Python_Modules"
   ]
  },
  {
   "cell_type": "code",
   "execution_count": null,
   "metadata": {},
   "outputs": [],
   "source": [
    "\"\"\"Consider a module to be the same as a code library.\n",
    "A file containing a set of functions you want to include in your application.\n",
    "\"\"\"\n",
    "\n",
    "\n",
    "#To create a module just save the code you want in a file with the file extension .py\n",
    "\n",
    "#Save this code in a file named mymodule.py\n",
    "def greeting(name):\n",
    "  print(\"Hello, \" + name)\n",
    "        \n",
    "#Now we can use the module we just created, by using the import statement:\n",
    "#Import the module named mymodule, and call the greeting function\n",
    "import mymodule\n",
    "mymodule.greeting(\"Jonathan\")\n",
    "\n",
    "#Note: When using a function from a module, use the syntax: module_name.function_name"
   ]
  },
  {
   "cell_type": "code",
   "execution_count": null,
   "metadata": {},
   "outputs": [],
   "source": [
    "#Variables in Module:-\n",
    "#Save this code in the file mymodule.py\n",
    "person1 = {\n",
    "  \"name\": \"John\",\n",
    "  \"age\": 36,\n",
    "  \"country\": \"Norway\"\n",
    "}\n",
    "\n",
    "#Import the module named mymodule, and access the person1 dictionary:\n",
    "import mymodule\n",
    "\n",
    "a = mymodule.person1[\"age\"]\n",
    "print(a)"
   ]
  },
  {
   "cell_type": "code",
   "execution_count": null,
   "metadata": {},
   "outputs": [],
   "source": [
    "#Naming a Module:-the module file whatever you like, but it must have the file extension .py\n",
    "\n",
    "#Re-naming a Module:-You can create an alias when you import a module, by using the as keyword\n",
    "import mymodule as mx\n",
    "a = mx.person1[\"age\"]                            # mymodule called mx\n",
    "print(a)\n"
   ]
  },
  {
   "cell_type": "code",
   "execution_count": null,
   "metadata": {},
   "outputs": [],
   "source": [
    "#Built-in Modules:-There are several built-in modules which you can import whenever you like.\n",
    "import platform\n",
    "                         #Import and use the platform module\n",
    "x = platform.system()  #THE platform module print the name of platform like - window,linux etc.\n",
    "print(x)\n",
    "\n",
    "\n",
    "\n",
    "#Using the dir() Function:-\n",
    "\"\"\"There is a built-in function to list all the function names (or variable names) in a \n",
    "module. The dir() function\"\"\"\n",
    "import platform\n",
    "\n",
    "x = dir(platform)  # it will list all the defined names belonging to the platform module\n",
    "print(x)\n",
    "\n",
    "#Note: The dir() function can be used on all modules, also the ones you create yourself."
   ]
  },
  {
   "cell_type": "code",
   "execution_count": null,
   "metadata": {},
   "outputs": [],
   "source": [
    "#Import From Module:-You can choose to import only parts from a module, by using the from keyword.\n",
    "#The module named mymodule has one function and one dictionary:\n",
    "def greeting(name):\n",
    "  print(\"Hello, \" + name)\n",
    "                                     \n",
    "person1 = {\n",
    "  \"name\": \"John\",\n",
    "  \"age\": 36,\n",
    "  \"country\": \"Norway\"\n",
    "}\n",
    "\n",
    "#Import only the person1 dictionary from the module\n",
    "from mymodule import person1\n",
    "print (person1[\"age\"])\n",
    "\n",
    "\"\"\"Note: When importing using the from keyword, do not use the module name when referring\n",
    "to elements in the module. Example: person1[\"age\"], not mymodule.person1[\"age\"]\"\"\""
   ]
  }
 ],
 "metadata": {
  "kernelspec": {
   "display_name": "Python 3",
   "language": "python",
   "name": "python3"
  },
  "language_info": {
   "codemirror_mode": {
    "name": "ipython",
    "version": 3
   },
   "file_extension": ".py",
   "mimetype": "text/x-python",
   "name": "python",
   "nbconvert_exporter": "python",
   "pygments_lexer": "ipython3",
   "version": "3.7.6"
  }
 },
 "nbformat": 4,
 "nbformat_minor": 4
}
