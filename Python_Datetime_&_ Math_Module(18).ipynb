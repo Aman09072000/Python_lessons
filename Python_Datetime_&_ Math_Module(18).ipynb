{
 "cells": [
  {
   "cell_type": "markdown",
   "metadata": {},
   "source": [
    "# Learn_Python_with_Me"
   ]
  },
  {
   "cell_type": "markdown",
   "metadata": {},
   "source": [
    "        # By - Aman Gupta                                         Date-01/05/20"
   ]
  },
  {
   "cell_type": "markdown",
   "metadata": {},
   "source": [
    "# Python_Datetime"
   ]
  },
  {
   "cell_type": "code",
   "execution_count": null,
   "metadata": {},
   "outputs": [],
   "source": [
    "\"\"\"A date in Python is not a data type of its own, but we can import a module named datetime\n",
    "to work with dates as date objects.\"\"\"\n",
    "\n",
    "import datetime            #Import the datetime module and display the current date\n",
    "x = datetime.datetime.now()\n",
    "print(x)\n",
    "\n",
    "\"\"\"\n",
    "When we execute the code from the example above the result will be:\n",
    "2020-06-01 11:09:05.973080\n",
    "\n",
    "The date contains year, month, day, hour, minute, second, and microsecond.\n",
    "The datetime module has many methods to return information about the date object.\n",
    "\"\"\"\n",
    "\n",
    "import datetime\n",
    "x = datetime.datetime.now()\n",
    "print(x.year)                         #Return the year and name of weekday\n",
    "print(x.strftime(\"%A\"))"
   ]
  },
  {
   "cell_type": "code",
   "execution_count": null,
   "metadata": {},
   "outputs": [],
   "source": [
    "#Creating Date Objects:--\n",
    "\"\"\"To create a date, we can use the datetime() class (constructor) of the datetime module.\n",
    "The datetime() class requires three parameters to create a date: year, month, day.\"\"\"\n",
    "\n",
    "import datetime\n",
    "x = datetime.datetime(2020, 5, 17)\n",
    "print(x)\n",
    "\n",
    "\"\"\"The datetime() class also takes parameters for time and timezone (hour, minute, second,\n",
    "microsecond, tzone), but they are optional, and has a default value of 0, (None for timezone).\"\"\""
   ]
  },
  {
   "cell_type": "code",
   "execution_count": null,
   "metadata": {},
   "outputs": [],
   "source": [
    "#The strftime() Method:-\n",
    "\"\"\"The datetime object has a method for formatting date objects into readable strings.\n",
    "The method is called strftime(), and takes one parameter, format, to specify the format \n",
    "of the returned string:\"\"\"\n",
    "\n",
    "import datetime\n",
    "x = datetime.datetime(2018, 6, 1)\n",
    "print(x.strftime(\"%B\"))\n"
   ]
  },
  {
   "cell_type": "markdown",
   "metadata": {},
   "source": [
    "# Python_Math"
   ]
  },
  {
   "cell_type": "code",
   "execution_count": null,
   "metadata": {},
   "outputs": [],
   "source": [
    "\"\"\"Python has a set of built-in math functions, including an extensive math module, that \n",
    "allows you to perform mathematical tasks on numbers.\n",
    "\"\"\"\n",
    "\n",
    "#Built-in Math Functions:-\n",
    "\n",
    "x = min(5, 10, 25)\n",
    "y = max(5, 10, 25)\n",
    "print(x)#The min() and max() functions can be used to find the lowest or highest value in an iterable\n",
    "print(y)\n",
    "\n",
    "\n",
    "#The abs() function returns the absolute (positive) value of the specified number\n",
    "x = abs(-7.25)\n",
    "print(x)\n",
    "\n",
    "#The pow(x, y) function returns the value of x to the power of y (xy).\n",
    "x = pow(4, 3)\n",
    "print(x)       #Return the value of 4 to the power of 3 (same as 4 * 4 * 4)"
   ]
  },
  {
   "cell_type": "code",
   "execution_count": null,
   "metadata": {},
   "outputs": [],
   "source": [
    "#The Math Module\n",
    "\"\"\"Python has also a built-in module called math, which extends the list of mathematical \n",
    "functions.\n",
    "To use it, you must import the math module:\"\"\"\n",
    "\n",
    "import math\n",
    "x = math.sqrt(64)      #The math.sqrt() method for example, returns the square root of a number\n",
    "print(x)\n",
    "\n",
    "\n",
    "x = math.ceil(1.4)   #The math.ceil() method rounds a number upwards to its nearest integer\n",
    "y = math.floor(1.4) #the math.floor() method rounds a number downwards to its nearest integer, and returns the result:\n",
    "print(x) # returns 2\n",
    "print(y) # returns 1\n",
    "\n",
    "\n",
    "#The math.pi constant, returns the value of PI (3.14...)\n",
    "import math\n",
    "x = math.pi\n",
    "print(x)"
   ]
  }
 ],
 "metadata": {
  "kernelspec": {
   "display_name": "Python 3",
   "language": "python",
   "name": "python3"
  },
  "language_info": {
   "codemirror_mode": {
    "name": "ipython",
    "version": 3
   },
   "file_extension": ".py",
   "mimetype": "text/x-python",
   "name": "python",
   "nbconvert_exporter": "python",
   "pygments_lexer": "ipython3",
   "version": "3.7.6"
  }
 },
 "nbformat": 4,
 "nbformat_minor": 4
}
