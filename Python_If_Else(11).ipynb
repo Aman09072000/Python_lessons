{
 "cells": [
  {
   "cell_type": "markdown",
   "metadata": {},
   "source": [
    "# Learn_Python_with_Me"
   ]
  },
  {
   "cell_type": "markdown",
   "metadata": {},
   "source": [
    "          #By - Aman Gupta                                                    Date- 30/05/20"
   ]
  },
  {
   "cell_type": "markdown",
   "metadata": {},
   "source": [
    "# Python If ... Else Statement"
   ]
  },
  {
   "cell_type": "code",
   "execution_count": null,
   "metadata": {},
   "outputs": [],
   "source": [
    "\"\"\"Python supports the usual logical conditions from mathematics:\n",
    "\n",
    "->Equals: a == b\n",
    "->Not Equals: a != b\n",
    "->Less than: a < b\n",
    "->Less than or equal to: a <= b\n",
    "->Greater than: a > b\n",
    "->Greater than or equal to: a >= b\n",
    "\"\"\"\n",
    "\n",
    "a = 33\n",
    "b = 200\n",
    "if b > a:\n",
    "  print(\"b is greater than a\")   #indentation is given here.\n",
    "\n",
    "\"\"\"In this example we use two variables, a and b, which are used as part of the if statement to\n",
    "test whether b is greater than a. As a is 33, and b is 200, we know that 200 is greater than 33,\n",
    "and so we print to screen that \"b is greater than a\".\"\"\""
   ]
  },
  {
   "cell_type": "code",
   "execution_count": null,
   "metadata": {},
   "outputs": [],
   "source": [
    "#indentation:-\n",
    "\"\"\"Python relies on indentation (whitespace at the beginning of a line) to define scope in the \n",
    "code. Other programming languages often use curly-brackets for this purpose.\"\"\"\n",
    "\n",
    "if 5>2:\n",
    "print(\"5 is greater than 2\")  #it give an error as we cant give indentation here."
   ]
  },
  {
   "cell_type": "code",
   "execution_count": null,
   "metadata": {},
   "outputs": [],
   "source": [
    "#Elif:-\n",
    "\"\"\"The elif keyword is pythons way of saying \"if the previous conditions were not true, then try \n",
    "this condition\".\"\"\"\n",
    "\n",
    "if 5<2:\n",
    "    print(\"5 is smaller\")\n",
    "elif 5>2:\n",
    "    print(\"5 is greater\")\n",
    "    \n",
    "    \n",
    "#else:-\n",
    "\"\"\"The else keyword catches anything which isn't caught by the preceding conditions.\"\"\"\n",
    "\n",
    "a = 2\n",
    "b = 1\n",
    "if b > a:\n",
    "  print(\"b is greater than a\")\n",
    "elif a == b:\n",
    "  print(\"a and b are equal\")\n",
    "else:\n",
    "  print(\"a is greater than b\")"
   ]
  },
  {
   "cell_type": "code",
   "execution_count": null,
   "metadata": {},
   "outputs": [],
   "source": [
    "if 12>31:\n",
    "    print(\"12>13\")\n",
    "else:\n",
    "    print(\"12 is less\")"
   ]
  },
  {
   "cell_type": "code",
   "execution_count": null,
   "metadata": {},
   "outputs": [],
   "source": [
    "#shorthand if:-This technique is known as Ternary Operators, or Conditional Expressions.\n",
    "\n",
    "\n",
    "#If you have only one statement to execute, you can put it on the same line as the if statement.\n",
    "if 5 > 2: print(\"a is greater than b\")   #it use when we use only a single if statement\n",
    "    \n",
    "#Short Hand If ... Else:-\n",
    "\n",
    "#If you have only one statement to execute, one for if, and one for else, you can put it all \n",
    "#on the same line:\n",
    "\n",
    "a = 2 \n",
    "b = 330\n",
    "print(\"A\") if a > b else print(\"B\")\n",
    "\n",
    "                                             # in it we cant use elif ststement\n",
    "#MULTIPLE IF ELSE STSTEMENTS-\n",
    "print(\"5 is big\") if 5>1 else print(\"5 is small\") if 5<1 else print(\"5is equal\")"
   ]
  },
  {
   "cell_type": "code",
   "execution_count": null,
   "metadata": {},
   "outputs": [],
   "source": [
    "a=1\n",
    "b=5\n",
    "if 5>2 and 5>1:     #here we use and logical opwerator(it print when both is true)\n",
    "    if 5>3:     ##here we use nested if(it means if inside if) ststements.\n",
    "         print(\"5 is greater than 3\")\n",
    "    elif 4>5 or 4>6:    ##here we use or logical operator (it print when any of the one is true)\n",
    "          print(\"4 is grater\")\n",
    "    print(\"5 iis grater\")"
   ]
  },
  {
   "cell_type": "code",
   "execution_count": null,
   "metadata": {},
   "outputs": [],
   "source": [
    "#The pass Statement:-\n",
    "\"\"\"if statements cannot be empty, but if you for some reason have an if statement with no content,\n",
    "put in the pass statement to avoid getting an error.\"\"\"\n",
    "\n",
    "if 5>3:\n",
    "    pass\n",
    "else:\n",
    "    print(\"else condition\")"
   ]
  },
  {
   "cell_type": "code",
   "execution_count": null,
   "metadata": {},
   "outputs": [],
   "source": []
  },
  {
   "cell_type": "code",
   "execution_count": null,
   "metadata": {},
   "outputs": [],
   "source": []
  }
 ],
 "metadata": {
  "kernelspec": {
   "display_name": "Python 3",
   "language": "python",
   "name": "python3"
  },
  "language_info": {
   "codemirror_mode": {
    "name": "ipython",
    "version": 3
   },
   "file_extension": ".py",
   "mimetype": "text/x-python",
   "name": "python",
   "nbconvert_exporter": "python",
   "pygments_lexer": "ipython3",
   "version": "3.7.6"
  }
 },
 "nbformat": 4,
 "nbformat_minor": 4
}
