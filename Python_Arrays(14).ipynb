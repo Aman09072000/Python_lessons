{
 "cells": [
  {
   "cell_type": "markdown",
   "metadata": {},
   "source": [
    "# Learn_Python_with_Me"
   ]
  },
  {
   "cell_type": "markdown",
   "metadata": {},
   "source": [
    "            #By - Aman Gupta                                               Date- 30/05/20"
   ]
  },
  {
   "cell_type": "markdown",
   "metadata": {},
   "source": [
    "# Python_Arrays"
   ]
  },
  {
   "cell_type": "code",
   "execution_count": null,
   "metadata": {},
   "outputs": [],
   "source": [
    "\"\"\"Note: Python does not have built-in support for Arrays, but Python Lists can be used instead.\n",
    "however, to work with arrays in Python you will have to import a library, like the NumPy library.\"\"\""
   ]
  },
  {
   "cell_type": "code",
   "execution_count": null,
   "metadata": {},
   "outputs": [],
   "source": [
    "\"\"\"Arrays are used to store multiple values in one single variable:\n",
    "  An array is a special variable, which can hold more than one value at a time.\n",
    "\n",
    "If you have a list of items (a list of car names, for example), storing the cars in single\n",
    "variables could look like this:\n",
    "\n",
    "car1 = \"Ford\"\n",
    "car2 = \"Volvo\"\n",
    "car3 = \"BMW\"\n",
    "\n",
    "However, what if you want to loop through the cars and find a specific one? And what if you had \n",
    "not 3 cars, but 300?\n",
    "The solution is an array!\n",
    "An array can hold many values under a single name, and you can access the values by referring to \n",
    "an index number.\n",
    "\"\"\""
   ]
  },
  {
   "cell_type": "code",
   "execution_count": null,
   "metadata": {},
   "outputs": [],
   "source": [
    "cars=[\"Ford\", \"Volvo\", \"BMW\"]\n",
    "print(cars)\n",
    "print(cars[0])\n",
    "print(len(cars))\n",
    "print(cars.append(\"Audi\"))\n",
    "print(cars)\n",
    "print(cars.pop())\n",
    "print(cars)\n",
    "print(cars.remove(\"Volvo\"))\n",
    "print(cars)"
   ]
  },
  {
   "cell_type": "code",
   "execution_count": null,
   "metadata": {},
   "outputs": [],
   "source": [
    "#Python has a set of built-in methods that you can use on lists/arrays.\n",
    "\n",
    "Method                                                              Description\n",
    "\n",
    "append()\t                                            Adds an element at the end of the list\n",
    "clear()\t                                                Removes all the elements from the list\n",
    "copy()\t                                                   Returns a copy of the list\n",
    "count()\t                                    Returns the number of elements with the specified value\n",
    "extend()\t            Add the elements of a list (or any iterable), to the end of the current list\n",
    "index()\t                            Returns the index of the first element with the specified value\n",
    "insert()\t                                         Adds an element at the specified position\n",
    "pop()\t                                               Removes the element at the specified position\n",
    "remove()\t                                      Removes the first item with the specified value\n",
    "reverse()\t                                                Reverses the order of the list\n",
    "sort()\t                                                          Sorts the list"
   ]
  },
  {
   "cell_type": "code",
   "execution_count": null,
   "metadata": {},
   "outputs": [],
   "source": [
    "#Note: Python does not have built-in support for Arrays, but Python Lists can be used instead."
   ]
  },
  {
   "cell_type": "code",
   "execution_count": null,
   "metadata": {},
   "outputs": [],
   "source": []
  }
 ],
 "metadata": {
  "kernelspec": {
   "display_name": "Python 3",
   "language": "python",
   "name": "python3"
  },
  "language_info": {
   "codemirror_mode": {
    "name": "ipython",
    "version": 3
   },
   "file_extension": ".py",
   "mimetype": "text/x-python",
   "name": "python",
   "nbconvert_exporter": "python",
   "pygments_lexer": "ipython3",
   "version": "3.7.6"
  }
 },
 "nbformat": 4,
 "nbformat_minor": 4
}
