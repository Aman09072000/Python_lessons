{
 "cells": [
  {
   "cell_type": "markdown",
   "metadata": {},
   "source": [
    "# Learn_Python_with_Me"
   ]
  },
  {
   "cell_type": "markdown",
   "metadata": {},
   "source": [
    "    # By-Aman Gupta                                         #Date - 28/05/20"
   ]
  },
  {
   "cell_type": "markdown",
   "metadata": {},
   "source": [
    "# Python_Booleans."
   ]
  },
  {
   "cell_type": "code",
   "execution_count": null,
   "metadata": {},
   "outputs": [],
   "source": [
    "\"\"\"Booleans represent one of two values: True or False.\n",
    "In programming you often need to know if an expression is True or False.\n",
    "You can evaluate any expression in Python, and get one of two answers, True or False.\n",
    "When you compare two values, the expression is evaluated and Python returns the Boolean answer:\n",
    "\"\"\"\n",
    "print(5>1)\n",
    "print(1<3)\n",
    "print(2==3)\n",
    "print(2==2)"
   ]
  },
  {
   "cell_type": "code",
   "execution_count": null,
   "metadata": {},
   "outputs": [],
   "source": [
    "#and if we use any statement like if-else, for ,while they will also worked when the \n",
    "#condition is true or false . Print a message based on whether the condition is True or False:\n",
    "\n",
    "if 5>1:   #this condition is run when this condition is true\n",
    "    print(\"5 grater than 1\")    \n",
    "else:           # otherwise it will print\n",
    "    print(\"wrong statement\")"
   ]
  },
  {
   "cell_type": "code",
   "execution_count": null,
   "metadata": {},
   "outputs": [],
   "source": [
    "#Evaluate Values and Variables:--\n",
    "\n",
    "\"\"\"The bool() function allows you to evaluate any value, and give you True or False in return\"\"\"\n",
    "print(bool(5))\n",
    "print(bool(5>1))    #bool statement will return the value in the form of true or false.\n",
    "print(bool(1>5))\n"
   ]
  },
  {
   "cell_type": "code",
   "execution_count": null,
   "metadata": {},
   "outputs": [],
   "source": [
    "\"\"\"Almost any value is evaluated to True if it has some sort of content.\n",
    "Any string is True,                                   except empty strings.\n",
    "Any number is True,                                          except 0.\n",
    "Any list, tuple, set, and dictionary are True,        except empty ones.\n",
    "\"\"\"\n",
    "\n",
    "\n",
    "\"\"\"In fact, there are not many values that evaluates to False, except empty values, such as (),\n",
    "[],{}, \"\", the number 0, and the value None. And of course the value False evaluates to False\"\"\"\n",
    "\n",
    "#these are false values-\n",
    "\n",
    "bool(False)\n",
    "bool(None)\n",
    "bool(0)\n",
    "bool(\"\")\n",
    "bool(())               #these all return false\n",
    "bool([])\n",
    "bool({})\n"
   ]
  },
  {
   "cell_type": "code",
   "execution_count": null,
   "metadata": {},
   "outputs": [],
   "source": [
    "\"\"\"One more value, or object in this case, evaluates to False, and that is if you have an \n",
    "object that is made from a class with a __len__ function that returns 0 or False:\"\"\"\n",
    "\n",
    "class myclass():\n",
    "  def __len__(self):\n",
    "    return 0\n",
    "\n",
    "myobj = myclass()\n",
    "print(bool(myobj))\n",
    "\n"
   ]
  },
  {
   "cell_type": "code",
   "execution_count": null,
   "metadata": {},
   "outputs": [],
   "source": [
    "\"\"\"Python also has many built-in functions that returns a boolean value, like the isinstance() \n",
    "function, which can be used to determine if an object is of a certain data type:\"\"\"\n",
    "\n",
    "x = 200\n",
    "print(isinstance(x, int))"
   ]
  },
  {
   "cell_type": "markdown",
   "metadata": {},
   "source": [
    "# Python_operators."
   ]
  },
  {
   "cell_type": "code",
   "execution_count": null,
   "metadata": {},
   "outputs": [],
   "source": [
    "\"\"\"Operators are used to perform operations on variables and values.\n",
    ".Python divides the operators in the following groups:\n",
    "\n",
    "->Arithmetic operators\n",
    "->Assignment operators\n",
    "->Comparison operators\n",
    "->Logical operators\n",
    "->Identity operators\n",
    "->Membership operators\n",
    "->Bitwise operators\n",
    "\"\"\""
   ]
  },
  {
   "cell_type": "code",
   "execution_count": null,
   "metadata": {},
   "outputs": [],
   "source": [
    "#Arithmmeic operators:-\n",
    "\n",
    "\"\"\"Arithmetic operators are used with numeric values to perform common mathematical operations:\"\"\"\n",
    "Operator                Name                            Example\n",
    "\n",
    "+\t                   Addition\t                        x + y\n",
    "-\t                   Subtraction\t                    x - y\n",
    "*\t                   Multiplication\t                x * y\n",
    "/\t                   Division\t                        x / y\n",
    "%\t                   Modulus\t                        x % y\n",
    "**\t                   Exponentiation                   x ** y\n",
    "//\t                   Floor division                   x // y"
   ]
  },
  {
   "cell_type": "code",
   "execution_count": null,
   "metadata": {},
   "outputs": [],
   "source": [
    "#Addition         #add two or more no\n",
    "print(1+5)\n",
    "a=3\n",
    "b=7\n",
    "print(a+b)\n",
    "b=4+6\n",
    "print(b)\n",
    "\n",
    "#subtraction\n",
    "print(5-2)\n",
    "a=7\n",
    "b=2                   #substract two or more no\n",
    "print(a-b)\n",
    "c=a-b\n",
    "print(c)\n",
    "\n",
    "#multiplication\n",
    "print(3*4)\n",
    "a=6                       #perform a multiplication operation.\n",
    "b=2\n",
    "print(a*b)\n",
    "print(((b*a)+6)-1)\n",
    "\n",
    "#Division\n",
    "print(6/2)               #it will perform a division operator (By forward slash(/))\n",
    "print(a/b)               #and show the value genrally in float.\n",
    "\n",
    "#Modulus\n",
    "print(6%2)             #the modulus value will show the remainder value of the numbers.\n",
    "print((5%2))\n",
    "\n",
    "#Exponentiation\n",
    "print(2**2)               #the exponentiation operator will print the a^n (a of power n) value\n",
    "print(2**4)         #it is equal to 2*2*2*2\n",
    "\n",
    "#Floor division \n",
    "print(13//2)#it will print nearest whole no value (it is equal to 13/2 value in integer that is6)\n",
    "print(15//3)      #it is 15/3 that is 5 and it is integer so it will not change.\n",
    " "
   ]
  },
  {
   "cell_type": "code",
   "execution_count": null,
   "metadata": {},
   "outputs": [],
   "source": [
    "# Assignment Operators:-\n",
    "\"\"\"Assignment operators are used to assign values to variables:\"\"\"\n",
    "\n",
    "\n",
    "Operator\t   Example\t               Same As  \n",
    "=\t            x = 5\t                x = 5\t\n",
    "+=\t            x += 3\t                x = x + 3\n",
    "-=\t            x -= 3\t                x = x - 3\n",
    "*=\t            x *= 3\t                x = x * 3\n",
    "/=\t            x /= 3\t                x = x / 3\n",
    "%=\t            x %= 3\t                x = x % 3\n",
    "//=\t            x //= 3\t                x = x // 3\n",
    "**=\t            x **= 3\t                x = x ** 3\n",
    "&=\t            x &= 3\t                x = x & 3     \n",
    "|=\t            x |= 3\t                x = x | 3\n",
    "^=\t            x ^= 3\t                x = x ^ 3\n",
    ">>=\t            x >>= 3\t                x = x >> 3\n",
    "<<=\t            x <<= 3\t                x = x << 3"
   ]
  },
  {
   "cell_type": "code",
   "execution_count": null,
   "metadata": {},
   "outputs": [],
   "source": [
    "print(4&1)\n",
    "\n",
    "\n",
    "\"\"\"x & 1 produces a value that is either 1 or 0, depending on the least significant bit of x:\n",
    "if the last bit is 1, the result of x & 1 is 1; otherwise, it is 0.\n",
    "x & 1 is equivalent to x % 2.\n",
    "\"\"\""
   ]
  },
  {
   "cell_type": "code",
   "execution_count": null,
   "metadata": {},
   "outputs": [],
   "source": [
    "#Comparison Operators:-\n",
    "\"\"\"Comparison operators are used to compare two values:\"\"\"\n",
    "Operator\t                   Name\t         Example\n",
    "==\t                         Equal\t         x == y\t\n",
    "!=\t                         Not equal\t     x != y\t\n",
    ">\t                       Greater than\t     x > y\t\n",
    "<\t                       Less than\t     x < y\t\n",
    ">=\t             Greater than or equal to\t x >= y\t\n",
    "<=\t                 Less than or equal to\t x <= y"
   ]
  },
  {
   "cell_type": "code",
   "execution_count": null,
   "metadata": {},
   "outputs": [],
   "source": [
    "#Logical Operators:-\n",
    "\"\"\"Logical operators are used to combine conditional statements:\"\"\"\n",
    "Operator                           Description                                    Example\n",
    "and \t         Returns True if both statements are true\t                  x < 5 and  x < 10\n",
    "or\t            Returns True if one of the statements is true\t               x < 5 or x < 4\n",
    "not\t           Reverse the result, returns False if the result is true\t  not(x < 5 and x < 10"
   ]
  },
  {
   "cell_type": "code",
   "execution_count": null,
   "metadata": {},
   "outputs": [],
   "source": [
    "# Identity Operators:-\n",
    "\"\"\"Identity operators are used to compare the objects, not if they are equal, but if they\n",
    "are actually the same object, with the same memory location:\"\"\"\n",
    "\n",
    "Operator\t                      Description\t                                  Example\n",
    "is \t                Returns True if both variables are the same object\t           x is y\n",
    "is not\t           Returns True if both variables are not the same object\t      x is not y"
   ]
  },
  {
   "cell_type": "code",
   "execution_count": null,
   "metadata": {},
   "outputs": [],
   "source": [
    "#Membership Operators:-\n",
    "\"\"\"Membership operators are used to test if a sequence is presented in an object:\"\"\"\n",
    "\n",
    "Operator               Description                                              Example\n",
    "in \t   Returns True if a sequence with the specified value is present in the object\t x in y\t\n",
    "not in\t   Returns True if a sequence with the specified value is not present in the object\tx not in y"
   ]
  },
  {
   "cell_type": "code",
   "execution_count": null,
   "metadata": {},
   "outputs": [],
   "source": [
    "#Bitwise Operators:-\n",
    "\"\"\"Bitwise operators are used to compare (binary) numbers:\"\"\"\n",
    "\n",
    "\n",
    "Operator                       Name                                           Description\n",
    "& \t                            AND\t                       Sets each bit to 1 if both bits are 1\n",
    "|\t                            OR\t                  Sets each bit to 1 if one of two bits is 1\n",
    " ^\t                            XOR\t             Sets each bit to 1 if only one of two bits is 1\n",
    "~ \t                            NOT\t                                    Inverts all the bits\n",
    "<<\t                       Zero fill left shift\t         Shift left by pushing zeros in from\n",
    "                                                     the right and let the leftmost bits fall off\n",
    ">>\t                       Signed right shift\t   Shift right by pushing copies of the leftmost\n",
    "                                                    bit in from the left, and let the rightmost bits fall off"
   ]
  }
 ],
 "metadata": {
  "kernelspec": {
   "display_name": "Python 3",
   "language": "python",
   "name": "python3"
  },
  "language_info": {
   "codemirror_mode": {
    "name": "ipython",
    "version": 3
   },
   "file_extension": ".py",
   "mimetype": "text/x-python",
   "name": "python",
   "nbconvert_exporter": "python",
   "pygments_lexer": "ipython3",
   "version": "3.7.6"
  }
 },
 "nbformat": 4,
 "nbformat_minor": 4
}
