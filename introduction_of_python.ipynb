{
 "cells": [
  {
   "cell_type": "markdown",
   "metadata": {},
   "source": [
    "#                                     ## Learn_Python_with_Me."
   ]
  },
  {
   "cell_type": "markdown",
   "metadata": {},
   "source": [
    "        #By-Aman Gupta                                                     #Date-25/05/20"
   ]
  },
  {
   "cell_type": "code",
   "execution_count": null,
   "metadata": {},
   "outputs": [],
   "source": []
  },
  {
   "cell_type": "markdown",
   "metadata": {},
   "source": [
    " #                                    ## Introduction                                           "
   ]
  },
  {
   "cell_type": "markdown",
   "metadata": {},
   "source": [
    "                                                                    "
   ]
  },
  {
   "cell_type": "code",
   "execution_count": null,
   "metadata": {},
   "outputs": [],
   "source": [
    "# why use python // features of python\n",
    "\n",
    "\"\"\"we use python in various tech and it is easy to understand . most of the programmers will use python progrmming \n",
    "language as it opens the doors of every field .\n",
    "\n",
    "->Python works on different platforms (Windows, Mac, Linux, Raspberry Pi, etc).\n",
    "->Python has a simple syntax similar to the English language.\n",
    "->Python has syntax that allows developers to write programs with fewer lines than some other programming languages.\n",
    "->Python runs on an interpreter system, meaning that code can be executed as soon as it is written.\n",
    "This means that prototyping can be very quick.\n",
    "->Python can be treated in a procedural way, an object-orientated way or a functional way.\n",
    "\"\"\"\n",
    "\n",
    "\n"
   ]
  },
  {
   "cell_type": "code",
   "execution_count": null,
   "metadata": {},
   "outputs": [],
   "source": [
    "#What is python\n",
    "\n",
    "\"\"\"Python is programming language. it is a language which work on various fields like in for \n",
    "software devlopment,web development(server -side) and in many other places. it is invinted bt \"guido van rossum\" \n",
    "it is released in 1991 . it is easy to understand and easy to write . \n",
    "\n",
    "it is used in--:\n",
    "Python can be used on a server to create web applications.\n",
    "Python can be used alongside software to create workflows.\n",
    "Python can connect to database systems. It can also read and modify files.\n",
    "Python can be used to handle big data and perform complex mathematics.\n",
    "Python can be used for rapid prototyping, or for production-ready software development.\n",
    "\n",
    "\n",
    "Python was designed for readability, and has some similarities to the English language \n",
    "with influence from mathematics.\n",
    "\n",
    "\n",
    "\"\"\""
   ]
  },
  {
   "cell_type": "code",
   "execution_count": null,
   "metadata": {},
   "outputs": [],
   "source": [
    "#python versions\n",
    "\n",
    "\"\"\"python as two versions \n",
    "   ->python 2 and \n",
    "   ->python 3 \n",
    "   the latest version of python os python 3.8.2\n",
    "   \n",
    "   ->the python 3 will we launged in 2008 and it is interpreter based language \n",
    "   means as we will write our code in the python envirment it will check our code and run it.\n",
    "   as we know the interpeter check our code line by line .\n",
    "   ->Python 2, although not being updated with anythingother than security updates, is still\n",
    "   quite popular.\"\"\""
   ]
  },
  {
   "cell_type": "code",
   "execution_count": null,
   "metadata": {},
   "outputs": [],
   "source": [
    "# imp notes\n",
    "\n",
    "\"\"\"the python will not use curly braces ({}) and semicolon (;) to complete an line of code .\n",
    "   Python relies on indentation, using whitespace, to define scope; such as the scope of loops,\n",
    "   functions and classes. Other programming languages often use curly-brackets for this purpose.\n",
    "    \n",
    "Indentation = it is nothing but a white space by which we can sperate our code and to define\n",
    "                a scope. the indentation means min 1 white space .this is different for each \n",
    "                of us as we can use more than one white space also.\"\"\"\n",
    "                    "
   ]
  },
  {
   "cell_type": "code",
   "execution_count": null,
   "metadata": {},
   "outputs": [],
   "source": []
  },
  {
   "cell_type": "markdown",
   "metadata": {},
   "source": [
    "## Basic Needs."
   ]
  },
  {
   "cell_type": "code",
   "execution_count": null,
   "metadata": {},
   "outputs": [],
   "source": [
    "# for running a python code we will set up a environment for it .\n",
    "\n",
    "\"\"\" It is possible to write Python in an Integrated Development Environment, such as \n",
    "Thonny, Pycharm,jupyter,Anaconda navigator, Netbeans or Eclipse which are particularly \n",
    "useful when managing larger collections of Python files.\n",
    "We will also run aur python code in online by the help of google colab.by the help of it we cant \n",
    "download any file or application from the internet. \n",
    "\"\"\""
   ]
  }
 ],
 "metadata": {
  "kernelspec": {
   "display_name": "Python 3",
   "language": "python",
   "name": "python3"
  },
  "language_info": {
   "codemirror_mode": {
    "name": "ipython",
    "version": 3
   },
   "file_extension": ".py",
   "mimetype": "text/x-python",
   "name": "python",
   "nbconvert_exporter": "python",
   "pygments_lexer": "ipython3",
   "version": "3.7.6"
  }
 },
 "nbformat": 4,
 "nbformat_minor": 4
}
