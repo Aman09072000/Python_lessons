{
 "cells": [
  {
   "cell_type": "markdown",
   "metadata": {},
   "source": [
    "# Learn_Python-with_Me"
   ]
  },
  {
   "cell_type": "markdown",
   "metadata": {},
   "source": [
    "        #Name - Aman Gupta                                          Date- 31/05/20"
   ]
  },
  {
   "cell_type": "markdown",
   "metadata": {},
   "source": [
    "# Python_Inheritance"
   ]
  },
  {
   "cell_type": "code",
   "execution_count": null,
   "metadata": {},
   "outputs": [],
   "source": [
    "\"\"\"Inheritance allows us to define a class that inherits all the methods and properties from \n",
    "another class.\n",
    "Parent class is the class being inherited from, also called base class.\n",
    "Child class is the class that inherits from another class, also called derived class.\n",
    "\"\"\"\n",
    "#Create a Parent Class:- Any class can be a parent class, so the syntax is the same as class.\n",
    "\n",
    "class fullname:\n",
    "    def __init__(self,fname,lname):\n",
    "        self.fname = fname\n",
    "        self.lname = lname\n",
    "        \n",
    "    def myname(self):\n",
    "        print(self.fname,self.lname)\n",
    "n1=fullname(\"aman\",\"gupta\")  \n",
    "#Use the Person class to create an object, and then execute the printname method:\n",
    "n1.myname()\n",
    "\n",
    "#Create a Child Class:- \n",
    "\"\"\"To create a class that inherits the functionality from another class, send the parent\n",
    "class as a parameter when creating the child class:\"\"\"\n",
    "\n",
    "class intro(fullname):\n",
    "    pass\n",
    "#Use the pass keyword when you do not want to add any other properties or methods to the class.\n",
    "n2=fullname(\"ram\",\"ji\") #the intro class has the same properties and methods as the fullname class.\n",
    "n2.myname()"
   ]
  },
  {
   "cell_type": "code",
   "execution_count": null,
   "metadata": {},
   "outputs": [],
   "source": [
    "#Add the __init__() Function:-\n",
    "\"\"\"we created a child class that inherits the properties and methods from its parent.\n",
    "We want to add the __init__() function to the child class (instead of the pass keyword).\n",
    "\n",
    "When you add the __init__() function, the child class will no longer inherit the parent's\n",
    "__init__() function.\n",
    "Note: The child's __init__() function overrides the inheritance of the parent's __init__() \n",
    "function\n",
    "\n",
    "To keep the inheritance of the parent's __init__() function, add a call to the parent's\n",
    "__init__() function:\n",
    "\"\"\"\n",
    "class parent:\n",
    "    def __init__(self,name,age):\n",
    "        self.name=name\n",
    "        self.age=age\n",
    "    def Name(self):\n",
    "        print(self.name,self.age)\n",
    "class child(parent):\n",
    "    def __init__(self, fname, lname):    #create init function there also.\n",
    "        Person.__init__(self, fname, lname)\n",
    "p1=parent(\"ram\",12)\n",
    "p1.Name()"
   ]
  },
  {
   "cell_type": "code",
   "execution_count": null,
   "metadata": {},
   "outputs": [],
   "source": [
    "#Use the super() Function:-\n",
    "\n",
    "\"\"\"Python also has a super() function that will make the child class inherit all the methods\n",
    "and properties from its parent:\"\"\"\n",
    "\n",
    "class Person:\n",
    "  def __init__(self, fname, lname):\n",
    "    self.firstname = fname\n",
    "    self.lastname = lname\n",
    "\n",
    "  def printname(self):\n",
    "    print(self.firstname, self.lastname)\n",
    "\n",
    "class Student(Person):\n",
    "  def __init__(self, fname, lname):\n",
    "    super().__init__(fname, lname)\n",
    "\n",
    "x = Student(\"Mike\", \"Olsen\")\n",
    "x.printname()\n"
   ]
  },
  {
   "cell_type": "code",
   "execution_count": null,
   "metadata": {},
   "outputs": [],
   "source": [
    "class Person:\n",
    "    def __init__(self, fname, lname):\n",
    "        self.firstname = fname\n",
    "        self.lastname = lname\n",
    "\n",
    "    def printname(self):\n",
    "        print(self.firstname, self.lastname)\n",
    "\n",
    "class Student(Person):\n",
    "      def __init__(self, fname, lname, year):\n",
    "        super().__init__(fname, lname)\n",
    "        self.graduationyear = year\n",
    "\n",
    "x = Student(\"Mike\", \"Olsen\", 2019)\n",
    "print(x.graduationyear)\n"
   ]
  },
  {
   "cell_type": "code",
   "execution_count": null,
   "metadata": {},
   "outputs": [],
   "source": [
    "#Add Properties:-\n",
    "\n",
    "class Person:\n",
    "  def __init__(self, fname, lname):\n",
    "    self.firstname = fname\n",
    "    self.lastname = lname\n",
    "\n",
    "  def printname(self):\n",
    "    print(self.firstname, self.lastname)\n",
    "\n",
    "class Student(Person):  #Add a year parameter, and pass the correct year when creating objects\n",
    "  def __init__(self, fname, lname, year):\n",
    "    super().__init__(fname, lname)\n",
    "    self.graduationyear = year\n",
    "\n",
    "x = Student(\"Mike\", \"Olsen\", 2019)\n",
    "print(x.graduationyear)\n",
    "\n",
    "\"\"\"In the example below, the year 2019 should be a variable, and passed into the Student class\n",
    "when creating student objects. To do so, add another parameter in the __init__() function:\"\"\""
   ]
  },
  {
   "cell_type": "code",
   "execution_count": null,
   "metadata": {},
   "outputs": [],
   "source": [
    "#Add Methods:-\n",
    "\"\"\"f you add a method in the child class with the same name as a function in the parent class,\n",
    "the inheritance of the parent method will be overridden.\n",
    "\"\"\"\n",
    "\n",
    "class Person:\n",
    "  def __init__(self, fname, lname):\n",
    "    self.firstname = fname\n",
    "    self.lastname = lname\n",
    "\n",
    "  def printname(self):\n",
    "    print(self.firstname, self.lastname)\n",
    "\n",
    "class Student(Person):\n",
    "  def __init__(self, fname, lname, year):\n",
    "    super().__init__(fname, lname)\n",
    "    self.graduationyear = year\n",
    "\n",
    "  def welcome(self):\n",
    "    print(\"Welcome\", self.firstname, self.lastname, \"to the class of\", self.graduationyear)\n",
    "\n",
    "x = Student(\"Mike\", \"Olsen\", 2019)\n",
    "x.welcome()\n"
   ]
  },
  {
   "cell_type": "code",
   "execution_count": null,
   "metadata": {},
   "outputs": [],
   "source": []
  },
  {
   "cell_type": "code",
   "execution_count": null,
   "metadata": {},
   "outputs": [],
   "source": []
  },
  {
   "cell_type": "code",
   "execution_count": null,
   "metadata": {},
   "outputs": [],
   "source": []
  }
 ],
 "metadata": {
  "kernelspec": {
   "display_name": "Python 3",
   "language": "python",
   "name": "python3"
  },
  "language_info": {
   "codemirror_mode": {
    "name": "ipython",
    "version": 3
   },
   "file_extension": ".py",
   "mimetype": "text/x-python",
   "name": "python",
   "nbconvert_exporter": "python",
   "pygments_lexer": "ipython3",
   "version": "3.7.6"
  }
 },
 "nbformat": 4,
 "nbformat_minor": 4
}
