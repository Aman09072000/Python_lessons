{
 "cells": [
  {
   "cell_type": "markdown",
   "metadata": {},
   "source": [
    "# Learn_Python_with_Me"
   ]
  },
  {
   "cell_type": "markdown",
   "metadata": {},
   "source": [
    "            #By - Aman Gupta                                              #Date- 30/05/20 "
   ]
  },
  {
   "cell_type": "markdown",
   "metadata": {},
   "source": [
    "# Python_Functions."
   ]
  },
  {
   "cell_type": "code",
   "execution_count": null,
   "metadata": {},
   "outputs": [],
   "source": [
    "\"\"\"A function is a block of code which only runs when it is called.\n",
    "You can pass data, known as parameters, into a function.\n",
    "A function can return data as a result.\"\"\"\n",
    "\n",
    "def function_name():                        #here we define a function name function_name.\n",
    "    print(\"hii iam function\")  # function is defined using the def keyword\n",
    "    \n",
    "function_name()   #here we will call our function\n",
    "#To call a function, use the function name followed by parenthesis"
   ]
  },
  {
   "cell_type": "code",
   "execution_count": null,
   "metadata": {},
   "outputs": [],
   "source": [
    "#Arguments:-\n",
    "\"\"\"Information can be passed into functions as arguments.\n",
    "Arguments are specified after the function name, inside the parentheses. You can add as\n",
    "many arguments as you want, just separate them with a comma.\n",
    "The following example has a function with one argument (fname). When the function is called,\n",
    "we pass along a first name, which is used inside the function to print the full name:\n",
    "\"\"\"\n",
    "\n"
   ]
  },
  {
   "cell_type": "code",
   "execution_count": null,
   "metadata": {},
   "outputs": [],
   "source": [
    "#Parameters or Arguments:-\n",
    "\"\"\"The terms parameter and argument can be used for the same thing: information that are passed \n",
    "into a function.\n",
    "\n",
    "From a function's perspective:\n",
    "A parameter is the variable listed inside the parentheses in the function definition.\n",
    "An argument is the value that is sent to the function when it is called.\n",
    "\"\"\""
   ]
  },
  {
   "cell_type": "code",
   "execution_count": null,
   "metadata": {},
   "outputs": [],
   "source": [
    "def family(post,age):\n",
    "    print(post,age)\n",
    "    \n",
    "family(\"father\",48)      #there is 2 argumens and 2 parameters\n",
    "family(\"mother\",45)\n",
    "family(\"son\",24)"
   ]
  },
  {
   "cell_type": "code",
   "execution_count": null,
   "metadata": {},
   "outputs": [],
   "source": [
    "def my_function(fname):\n",
    "    print(fname + \" Refsnes\")   # hee we pass argument name fname\n",
    "\n",
    "my_function(\"Emil\")\n",
    "my_function(\"Tobias\")\n",
    "my_function(\"Linus\")\n",
    "\n",
    "#Arguments are often shortened to args in Python documentations."
   ]
  },
  {
   "cell_type": "code",
   "execution_count": null,
   "metadata": {},
   "outputs": [],
   "source": [
    "#Arbitrary Arguments, *args:-\n",
    "\n",
    "\"\"\"If you do not know how many arguments that will be passed into your function, add a * before \n",
    "the parameter name in the function definition.\n",
    "This way the function will receive a tuple of arguments, and can access the items accordingly:\"\"\"\n",
    "\n",
    "def student(*name):\n",
    "    print(\"the student name is-\",name[2])   #here we call by index value of argument\n",
    "                        #If the number of arguments is unknown, add a * before the parameter name\n",
    "student(\"ram\",\"shyam\",\"rohan\")\n",
    "\n",
    "#Arbitrary Arguments are often shortened to *args in Python documentations."
   ]
  },
  {
   "cell_type": "code",
   "execution_count": null,
   "metadata": {},
   "outputs": [],
   "source": [
    "#Keyword Arguments:-\n",
    "\"\"\"You can also send arguments with the key = value syntax.\n",
    "This way the order of the arguments does not matter.\"\"\"    \n",
    "\n",
    "def name(p1,p2,p3):\n",
    "        print(\"this is -\",p2)\n",
    "name(p1=\"ram\",p2=\"shaym\",p3=\"rohan\")\n",
    "\n",
    "#The phrase Keyword Arguments are often shortened to kwargs in Python documentations."
   ]
  },
  {
   "cell_type": "code",
   "execution_count": null,
   "metadata": {},
   "outputs": [],
   "source": [
    "#Arbitrary Keyword Arguments, **kwargs:-\n",
    "\"\"\"If you do not know how many keyword arguments that will be passed into your function, add \n",
    "two asterisk: ** before the parameter name in the function definition.\n",
    "This way the function will receive a dictionary of arguments, and can access the items accordingly:\"\"\"\n",
    "\n",
    "def student(**name):\n",
    "    print(\"this student is\",name[\"s1\"])\n",
    "        #If the number of keyword arguments is unknown, add a double ** before the parameter name\n",
    "student(s1=\"ram\",s2=\"shyam\")\n",
    "\n",
    "#Arbitrary Kword Arguments are often shortened to **kwargs in Python documentations."
   ]
  },
  {
   "cell_type": "code",
   "execution_count": null,
   "metadata": {},
   "outputs": [],
   "source": [
    "#Default Parameter Value:-\n",
    "\"\"\"If we call the function without argument, it uses the default value:\"\"\"\n",
    "\n",
    "def group(student=\"ram\"):\n",
    "    print(\"the student name is \",student)\n",
    "\n",
    "group(\"shyam\")\n",
    "group()       # it will take the default value.\n",
    "group(\"rohan\")"
   ]
  },
  {
   "cell_type": "code",
   "execution_count": null,
   "metadata": {},
   "outputs": [],
   "source": [
    "#Passing a List as an Argument:-\n",
    "l1=[\"ram\",\"shaym\",\"pavan\"]\n",
    "def student(name):\n",
    "    for x in name:\n",
    "        print(x)\n",
    "\n",
    "student(l1)"
   ]
  },
  {
   "cell_type": "code",
   "execution_count": null,
   "metadata": {},
   "outputs": [],
   "source": [
    "#Return Values:-\n",
    "\"\"\"To let a function return a value, use the return statement:\"\"\"\n",
    "def sum(num):\n",
    "    return num*num\n",
    "sum(2)\n",
    "   "
   ]
  },
  {
   "cell_type": "code",
   "execution_count": null,
   "metadata": {},
   "outputs": [],
   "source": [
    "#pass statement:-\n",
    "\"\"\"we also pass statement in our function also.\n",
    "function definitions cannot be empty, but if you for some reason have a function definition\n",
    "with no content, put in the pass statement to avoid getting an error.\"\"\"\n",
    "\n",
    "def name():\n",
    "    pass\n",
    "name()"
   ]
  },
  {
   "cell_type": "markdown",
   "metadata": {},
   "source": [
    "# Recursion"
   ]
  },
  {
   "cell_type": "code",
   "execution_count": null,
   "metadata": {},
   "outputs": [],
   "source": [
    "\"\"\"Python also accepts function recursion, which means a defined function can call itself.\n",
    "Recursion is a common mathematical and programming concept. It means that a function calls itself. \n",
    "This has the benefit of meaning that you can loop through data to reach a result\"\"\"\n",
    "\n",
    "def solution(n):\n",
    "\n",
    "    if n>0:\n",
    "        result = n + solution(n - 1)  #here solution calling itself again\n",
    "        print(result)\n",
    "    else:\n",
    "        result=0\n",
    "    return result\n",
    "    \n",
    "solution(3)"
   ]
  },
  {
   "cell_type": "markdown",
   "metadata": {},
   "source": [
    "# Python_Lambda"
   ]
  },
  {
   "cell_type": "code",
   "execution_count": null,
   "metadata": {},
   "outputs": [],
   "source": [
    "\"\"\"A lambda function is a small anonymous function.\n",
    "A lambda function can take any number of arguments, but can only have one expression.\n",
    "\n",
    "The power of lambda is better shown when you use them as an anonymous function inside another\n",
    "function.\n",
    "\n",
    "Syntax:-\n",
    "lambda arguments : expression\n",
    "\"\"\"\n",
    "\n",
    "x=lambda a:a*2\n",
    "print(x(5))\n",
    "\n",
    "y=lambda x,y,z:z+y+x   #it take any no of arguments.\n",
    "print(y(3,2,1))\n",
    "\n"
   ]
  },
  {
   "cell_type": "code",
   "execution_count": null,
   "metadata": {},
   "outputs": [],
   "source": [
    "\"\"\"you have a function definition that takes one argument, and that argument will be multiplied\n",
    "with an unknown number:\n",
    "\n",
    "syntax:-\n",
    "\n",
    "def myfunc(n):\n",
    "  return lambda a : a * n\n",
    "\"\"\"\n",
    "\n",
    "def calcu(num):          #create a function with name calcu and having argument num\n",
    "    return lambda a:a*num   #create a lambda function.\n",
    "doubler = calcu(2)   #create an object and assign a avlue to function (calcu) argument.\n",
    "print(doubler(3))    #print that object and give it a value . that value is of a."
   ]
  },
  {
   "cell_type": "code",
   "execution_count": null,
   "metadata": {},
   "outputs": [],
   "source": [
    "def sum():\n",
    "    return lambda a:a+5\n",
    "add=sum()  # the value which we given to function and assifn it an object if a value of n.\n",
    "print(add(3))  # the value which we given to object is a value of a."
   ]
  },
  {
   "cell_type": "code",
   "execution_count": null,
   "metadata": {},
   "outputs": [],
   "source": [
    "def myfunc(n):\n",
    "    return lambda a : a * n\n",
    "\n",
    "mydoubler = myfunc(2)\n",
    "mytripler = myfunc(3)\n",
    "\n",
    "print(mydoubler(11))\n",
    "print(mytripler(11))"
   ]
  }
 ],
 "metadata": {
  "kernelspec": {
   "display_name": "Python 3",
   "language": "python",
   "name": "python3"
  },
  "language_info": {
   "codemirror_mode": {
    "name": "ipython",
    "version": 3
   },
   "file_extension": ".py",
   "mimetype": "text/x-python",
   "name": "python",
   "nbconvert_exporter": "python",
   "pygments_lexer": "ipython3",
   "version": "3.7.6"
  }
 },
 "nbformat": 4,
 "nbformat_minor": 4
}
