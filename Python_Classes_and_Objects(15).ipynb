{
 "cells": [
  {
   "cell_type": "markdown",
   "metadata": {},
   "source": [
    "# Learn_Python_With_Me"
   ]
  },
  {
   "cell_type": "markdown",
   "metadata": {},
   "source": [
    "            #By - Aman Gupta                                                Date- 31/05/20 "
   ]
  },
  {
   "cell_type": "markdown",
   "metadata": {},
   "source": [
    "# Python Classes and Objects."
   ]
  },
  {
   "cell_type": "code",
   "execution_count": null,
   "metadata": {},
   "outputs": [],
   "source": [
    "#Python Classes/Objects:-\n",
    "\n",
    "\"\"\"Python is an object oriented programming language.\n",
    "Almost everything in Python is an object, with its properties and methods.\n",
    "A Class is like an object constructor, or a \"blueprint\" for creating objects.\n",
    "\"\"\"\n",
    "\n",
    "#creating a class and object.\n",
    "class myclass:       #here we create a class with class name myclass.\n",
    "    x=5         #here we create a variable with value 5\n",
    "    \n",
    "p1=myclass()   #here create a object  with name p1 \n",
    "print(p1.x)     #here we will print the value of x with calling constructor"
   ]
  },
  {
   "cell_type": "code",
   "execution_count": null,
   "metadata": {},
   "outputs": [],
   "source": [
    "#The __init__() Function:-\n",
    "\n",
    "\"\"\"To understand the meaning of classes we have to understand the built-in __init__() function.\n",
    "All classes have a function called __init__(), which is always executed when the class is\n",
    "being initiated.\n",
    "Use the __init__() function to assign values to object properties, or other operations that\n",
    "are necessary to do when the object is being created:\n",
    "\"\"\"\n",
    "class Person:                            # define a class\n",
    "      def __init__(self, name, age): #define a __init__() function the self is always written with it\n",
    "        self.name = name\n",
    "        self.age = age                   #define a bject\n",
    "\n",
    "p1 = Person(\"John\", 36)            #create a object of name p1 and assign a value to it\n",
    "\n",
    "print(p1.name)           #print \n",
    "print(p1.age)\n",
    "\n",
    "#The __init__() function is called automatically every time the class is being used to create\n",
    "# new object."
   ]
  },
  {
   "cell_type": "code",
   "execution_count": null,
   "metadata": {},
   "outputs": [],
   "source": [
    "class student:\n",
    "    def __init__(self,name,age):  #use the __init__() function to assign values for name and age\n",
    "        self.name = name\n",
    "        self.age = age\n",
    "        \n",
    "p1 = student(\"ram\",12)\n",
    "p2 = student(\"shyam\",16)\n",
    "print(p1.age)\n",
    "print(p2.name)"
   ]
  },
  {
   "cell_type": "code",
   "execution_count": null,
   "metadata": {},
   "outputs": [],
   "source": [
    "#Object Methods:-\n",
    "\n",
    "\"\"\"Objects can also contain methods. Methods in objects are functions that belong to the object.\n",
    "Let us create a method in the Person class:\"\"\"\n",
    "\n",
    "class person:             #define a class\n",
    "    def __init__(self,name):          #define a __init__() function\n",
    "        self.name=name\n",
    "    \n",
    "    def intro(self):                    #create a new function\n",
    "        print(\"he is \",self.name)\n",
    "        \n",
    "p1=person(\"ram\")            #create a object p1 and p2 and pass the value to the class\n",
    "p2=person(\"shyam\")\n",
    "p1.intro()         #printing a mehods. methods is functions that belong to object\n",
    "p2.intro()\n",
    "\n",
    "\"\"\"Note:- The self parameter is a reference to the current instance of the class, and is used \n",
    "to access variables that belong to the class.\"\"\""
   ]
  },
  {
   "cell_type": "code",
   "execution_count": null,
   "metadata": {},
   "outputs": [],
   "source": [
    "#The self Parameter:-\n",
    "\n",
    "\"\"\"The self parameter is a reference to the current instance of the class, and is used to \n",
    "access variables that belongs to the class.\n",
    "It does not have to be named self , you can call it whatever you like, but it has to be the\n",
    "first parameter of any function in the class:\"\"\"\n",
    "\n",
    "class dream:                 #define class\n",
    "    def __init__(use,cname):    #define __init__() function . here use use name in place of self\n",
    "        use.cname = cname\n",
    "        \n",
    "    def cars(use2):        #create a function here we use use2 in place of self\n",
    "        print(\"car is\",use2.cname)\n",
    "c1=dream(\"Audi\")   #create a object\n",
    "print(c1.cname)       # print a name by object and variable\n",
    "c1.cars()               #here we call methods"
   ]
  },
  {
   "cell_type": "code",
   "execution_count": null,
   "metadata": {},
   "outputs": [],
   "source": [
    "#properties:-\n",
    "\n",
    "#Modify Object Properties:-You can modify properties of a objects by this.\n",
    "c1.cname = \"BMW\"\n",
    "c1.cars()\n",
    "\n",
    "#Delete Object Properties :-You can delete properties on objects by using the del keyword:\n",
    "del c1.cname\n",
    "\n",
    "#Delete Objects:- You can delete objects by using the del keyword:\n",
    "del c1"
   ]
  },
  {
   "cell_type": "code",
   "execution_count": null,
   "metadata": {},
   "outputs": [],
   "source": [
    "#The pass Statement:-\n",
    "\n",
    "\"\"\"class definitions cannot be empty, but if you for some reason have a class definition with\n",
    "no content, put in the pass statement to avoid getting an error.\"\"\"\n",
    "\n",
    "class room:\n",
    "    pass"
   ]
  },
  {
   "cell_type": "code",
   "execution_count": null,
   "metadata": {},
   "outputs": [],
   "source": []
  }
 ],
 "metadata": {
  "kernelspec": {
   "display_name": "Python 3",
   "language": "python",
   "name": "python3"
  },
  "language_info": {
   "codemirror_mode": {
    "name": "ipython",
    "version": 3
   },
   "file_extension": ".py",
   "mimetype": "text/x-python",
   "name": "python",
   "nbconvert_exporter": "python",
   "pygments_lexer": "ipython3",
   "version": "3.7.6"
  }
 },
 "nbformat": 4,
 "nbformat_minor": 4
}
