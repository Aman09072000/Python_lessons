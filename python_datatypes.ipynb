{
 "cells": [
  {
   "cell_type": "markdown",
   "metadata": {},
   "source": [
    "# Learn_Python_with_Me"
   ]
  },
  {
   "cell_type": "markdown",
   "metadata": {},
   "source": [
    "           #By - Aman Gupta                                            #Date-27/05/20"
   ]
  },
  {
   "cell_type": "code",
   "execution_count": null,
   "metadata": {},
   "outputs": [],
   "source": []
  },
  {
   "cell_type": "markdown",
   "metadata": {},
   "source": [
    "# Datatypes_Of_Python"
   ]
  },
  {
   "cell_type": "markdown",
   "metadata": {},
   "source": [
    "        #Built-in Datatypes"
   ]
  },
  {
   "cell_type": "code",
   "execution_count": null,
   "metadata": {},
   "outputs": [],
   "source": [
    "\"\"\"Datatypes are very important in any programming language. in it a variables can store\n",
    "data of different types, and different types can do different things. \n",
    "And the term Built-in means these are previouly defined by the puthon liberary we will use \n",
    "them easyly according to our need and we will also not need to define it .\n",
    "\"\"\""
   ]
  },
  {
   "cell_type": "code",
   "execution_count": null,
   "metadata": {},
   "outputs": [],
   "source": [
    "#the python programming has following built-in datatypes-\n",
    "\n",
    "\"\"\"            Text Type:\t      str\n",
    "               Numeric Types:\t  int, float, complex\n",
    "               Sequence Types:\t  list, tuple, range\n",
    "               Mapping Type:\t  dict\n",
    "               Set Types:\t      set, frozenset\n",
    "               Boolean Type:\t  bool\n",
    "               Binary Types:\t  bytes, bytearray, memoryview\n",
    "\"\"\""
   ]
  },
  {
   "cell_type": "code",
   "execution_count": null,
   "metadata": {},
   "outputs": [],
   "source": [
    "#we will check the datatype or type of any variable/object by the help of type function.\n",
    "\n",
    "\n",
    "y=\"aman\"\n",
    "x=24\n",
    "z=0.43   #the type()will take only 1 argument or 3 argument at the same time.\n",
    "a=54+5j        #type(object)\n",
    "print(type(y))\n",
    "               #type(name, bases, dict)"
   ]
  },
  {
   "cell_type": "code",
   "execution_count": null,
   "metadata": {},
   "outputs": [],
   "source": [
    "# lets start playing with datatypes"
   ]
  },
  {
   "cell_type": "code",
   "execution_count": null,
   "metadata": {},
   "outputs": [],
   "source": [
    "#1)-text type :- for it we will use string datatype keyword is str\n",
    "\n",
    "x=\"ram\"\n",
    "type(x)\n"
   ]
  },
  {
   "cell_type": "code",
   "execution_count": null,
   "metadata": {},
   "outputs": [],
   "source": [
    "t=\"shyam\"    #string value writien in always single quote ('') or in double quote(\"\")\n",
    "print(type(y))"
   ]
  },
  {
   "cell_type": "code",
   "execution_count": null,
   "metadata": {},
   "outputs": [],
   "source": [
    "x=str(46364)\n",
    "y=str(566+5j)\n",
    "print(type(x)) \n",
    "print(type(y))#so the int is also converted into string by it ."
   ]
  },
  {
   "cell_type": "code",
   "execution_count": null,
   "metadata": {},
   "outputs": [],
   "source": [
    "#2)-Numerial type :- for it we use three keywords--a)int  b)float  c)complex"
   ]
  },
  {
   "cell_type": "code",
   "execution_count": null,
   "metadata": {},
   "outputs": [],
   "source": [
    "x=234\n",
    "y=45.654\n",
    "z=5+3j\n",
    "print(type(x))\n",
    "print(type(y))\n",
    "print(type(z))"
   ]
  },
  {
   "cell_type": "code",
   "execution_count": null,
   "metadata": {},
   "outputs": [],
   "source": [
    "#A) int-\n",
    "#x=int(\"aman\")  #it give an error as we cant pass str value with string\n",
    "#print(type(x))\n",
    "y=int(43.5)\n",
    "print(type(y))\n",
    "z=int(5+6j)            # and we will change the value of float  in int also\n",
    "print(type(z))  #but cant change the value of complex"
   ]
  },
  {
   "cell_type": "code",
   "execution_count": null,
   "metadata": {},
   "outputs": [],
   "source": [
    "#b)float-\n",
    "x=float(4+6j)   #cant change complex no into float\n",
    "print(x)\n",
    "y=float(34)   #it will convert int  value into float and also vice versa\n",
    "print(y)\n"
   ]
  },
  {
   "cell_type": "code",
   "execution_count": null,
   "metadata": {},
   "outputs": [],
   "source": [
    "#c) complex-\n",
    "x=complex(1.7)  #we will convert our int and float value inthe complex no also like for 1 is 1.0+0j\n",
    "print(x)\n",
    "y=complex(677)\n",
    "print(y)\n",
    "z=complex(\"aman\")  #cant convert str value into complex also.\n",
    "print(z)"
   ]
  },
  {
   "cell_type": "code",
   "execution_count": null,
   "metadata": {},
   "outputs": [],
   "source": [
    "#3)-sequence type:- for it we have three tupes of datatypes a)-list  b)-tuple  c)range\n",
    "\n",
    "#A)-# list-\n",
    "x=[3,6,\"aam\",55j]\n",
    "print(type(x))                #we will discus about list in our upcoming slides in deep.\n",
    "print(x)\n",
    "\n",
    "#B)-#tuple-\n",
    "y=(3,5,\"rohan\",544j)           #we will discus about tuple in our upcoming sides in deep.\n",
    "print(type(y))\n",
    "print(y)"
   ]
  },
  {
   "cell_type": "code",
   "execution_count": null,
   "metadata": {},
   "outputs": [],
   "source": [
    "#C)-#range\n",
    "\"\"\"now we will discus about the range function .in range function it will prit all values \n",
    "in aur range\"\"\"\n",
    "\n",
    "x=range(5)     #here we can get all no from 0 to 5 it will have 5 no that is 0 ,1,2,3,4\n",
    "print(x)\n",
    "y=range(3,8)   #here we have a starting position (3)and a last position (8) having value 3 to 8\n",
    "print(type(y))\n",
    "print(y)\n",
    "for z in range(2,9,2):  # here we have three values first is starting point second is ending position and third\n",
    "    print(z)     #is the gaph between it it has value 2,4,6,8"
   ]
  },
  {
   "cell_type": "code",
   "execution_count": null,
   "metadata": {},
   "outputs": [],
   "source": [
    "#4)-mapping type:- here we have a single datatype that is dictonary and keyword is dict\n",
    "\n",
    "x={\"name\":\"aman\",\"age\":19}\n",
    "print(x)                  # we will learn more about dict in our upcoming slides\n",
    "print(type(x))        "
   ]
  },
  {
   "cell_type": "code",
   "execution_count": 1,
   "metadata": {},
   "outputs": [
    {
     "name": "stdout",
     "output_type": "stream",
     "text": [
      "{'ram', 'aman', 'gupta'}\n",
      "<class 'set'>\n"
     ]
    }
   ],
   "source": [
    "#5)-set types:- for it we have two sets that is A)- set and B)_-frozenset\n",
    "\n",
    "#A)-set-\n",
    "x={\"aman\",\"gupta\",\"ram\"}\n",
    "print(x)                  #we will learn more about set in our upcoming slides.\n",
    "print(type(x))"
   ]
  },
  {
   "cell_type": "code",
   "execution_count": 5,
   "metadata": {},
   "outputs": [
    {
     "name": "stdout",
     "output_type": "stream",
     "text": [
      "frozenset({1, 2, 3, 4, 5})\n",
      "<class 'frozenset'>\n"
     ]
    }
   ],
   "source": [
    "#B)-frozenset-\n",
    "\"\"\"The frozenset() is an inbuilt function is Python which takes an iterable object as input \n",
    "and makes them immutable. Simply it freezes the iterable objects and makes them unchangeable.\n",
    "In Python, frozenset is same as set except its elements are immutable.\n",
    "for frozenset we will use a keyword frozenset({4.56,\"aman\"})\n",
    "\n",
    "the frozen sets are the immutable form of the normal sets. It means we cannot remove or add\n",
    "any item into the frozen set.\n",
    "\"\"\"\n",
    "\n",
    "\n",
    "x=frozenset({1,2,3,4,5})\n",
    "print(x)\n",
    "#frozenset[1]=\"gupta\"   #it give error as we cant change the vakue of frozenset\n",
    "print(type(x))\n"
   ]
  },
  {
   "cell_type": "code",
   "execution_count": 8,
   "metadata": {},
   "outputs": [
    {
     "name": "stdout",
     "output_type": "stream",
     "text": [
      "<class 'bool'>\n",
      "True\n",
      "<class 'bool'>\n",
      "False\n"
     ]
    }
   ],
   "source": [
    "#6)-Boolean type:- for this we have two datatype that is bool\n",
    "\n",
    "\"\"\"The boolean data type is either True or False. In Python, boolean variables are defined by\n",
    "the True and False keywords. The output <class 'bool'> indicates the variable is a boolean\n",
    "data type.\"\"\"\n",
    "\n",
    "x=True\n",
    "print(type(x))\n",
    "print(x)\n",
    "y=bool(6)\n",
    "print(type(y))\n",
    "print(y)"
   ]
  },
  {
   "cell_type": "code",
   "execution_count": 10,
   "metadata": {},
   "outputs": [
    {
     "name": "stdout",
     "output_type": "stream",
     "text": [
      "b'aman'\n",
      "bytearray(b'\\x00\\x00\\x00\\x00\\x00')\n",
      "<memory at 0x0375E578>\n"
     ]
    }
   ],
   "source": [
    "#7)Binary types:- for this we have three types of Datatypes A)-bytes B)-bytearray C)-memoryview\n",
    "\n",
    "\n",
    "\"\"\"bytes and bytearray are used for manipulating binary data.\n",
    "The memoryview uses the buffer protocol to access the memory of other binary objects\n",
    "without needing to make a copy.\n",
    "Bytes objects are immutable sequences of single bytes. We should use them only when \n",
    "working with ASCII compatible data.\n",
    "The syntax for bytes literals is same as string literals, except that a 'b' prefix is added.\n",
    "bytearray objects are always created by calling the constructor bytearray(). These are mutable \n",
    "objects.\"\"\"\n",
    "\n",
    "\n",
    "x = b\"aman\"   #it is a bytes data\n",
    " \n",
    "y = bytearray(5)   #it is bytearray\n",
    " \n",
    "z = memoryview(bytes(5))    #it is a memoryview\n",
    " \n",
    "print(x)    # b'char_data'\n",
    "print(y)    # bytearray(b'\\x00\\x00\\x00\\x00\\x00')\n",
    "print(z)    # <memory at 0x014CE328>"
   ]
  },
  {
   "cell_type": "code",
   "execution_count": null,
   "metadata": {},
   "outputs": [],
   "source": []
  }
 ],
 "metadata": {
  "kernelspec": {
   "display_name": "Python 3",
   "language": "python",
   "name": "python3"
  },
  "language_info": {
   "codemirror_mode": {
    "name": "ipython",
    "version": 3
   },
   "file_extension": ".py",
   "mimetype": "text/x-python",
   "name": "python",
   "nbconvert_exporter": "python",
   "pygments_lexer": "ipython3",
   "version": "3.7.6"
  }
 },
 "nbformat": 4,
 "nbformat_minor": 4
}
