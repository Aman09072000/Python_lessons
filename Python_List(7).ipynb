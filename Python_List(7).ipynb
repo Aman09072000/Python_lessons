{
 "cells": [
  {
   "cell_type": "markdown",
   "metadata": {},
   "source": [
    "# Learn_Python_with_Me"
   ]
  },
  {
   "cell_type": "markdown",
   "metadata": {},
   "source": [
    "           #By - Aman Gupta                                           date- 29/01/20"
   ]
  },
  {
   "cell_type": "markdown",
   "metadata": {},
   "source": [
    "# Python Collections (Arrays)"
   ]
  },
  {
   "cell_type": "code",
   "execution_count": null,
   "metadata": {},
   "outputs": [],
   "source": [
    "\"\"\"There are four collection data types in the Python programming language:\n",
    "\n",
    "->List is a collection which is ordered and changeable. Allows duplicate members.\n",
    "->Tuple is a collection which is ordered and unchangeable. Allows duplicate members.\n",
    "->Set is a collection which is unordered and unindexed. No duplicate members.\n",
    "->Dictionary is a collection which is unordered, changeable and indexed. No duplicate members.\n",
    "\n",
    "\n",
    "When choosing a collection type, it is useful to understand the properties of that type. Choosing\n",
    "the right type for a particular data set could mean retention of meaning, and, it could mean an \n",
    "increase in efficiency or security.\"\"\""
   ]
  },
  {
   "cell_type": "markdown",
   "metadata": {},
   "source": [
    "# List:-"
   ]
  },
  {
   "cell_type": "code",
   "execution_count": null,
   "metadata": {},
   "outputs": [],
   "source": [
    "\"\"\"A list is a collection which is ordered and changeable. In Python lists are written with \n",
    "square brackets.\"\"\"\n",
    "\n",
    "x=[\"apple\",\"banana\",\"cat\",\"dog\",35,4.7,57j]\n",
    "print(type(x))\n",
    "print(x)"
   ]
  },
  {
   "cell_type": "code",
   "execution_count": null,
   "metadata": {},
   "outputs": [],
   "source": [
    "#access the list items by referring to the index number:-\n",
    "\n",
    "#positive indexing\n",
    "print(x[0])     #its indexing is start from 0. it is like 0 1 2 3 4 5...\n",
    "print(x[3])    #so the first element is zero and so on.\n",
    "\n",
    "#negative indexing\n",
    "#Negative indexing means beginning from the end, -1 refers to the last item\n",
    "\n",
    "print(x[-1])      #he negative start with the last , so ther last element has value -1.\n",
    "print(x[-3])       # its value be like ....-4 -3 -2 -1.\n"
   ]
  },
  {
   "cell_type": "code",
   "execution_count": null,
   "metadata": {},
   "outputs": [],
   "source": [
    "#Range of Indexes:-\n",
    "\n",
    "\"\"\"You can specify a range of indexes by specifying where to start and where to end the range.\n",
    "When specifying a range, the return value will be a new list with the specified items.\n",
    "\"\"\"\n",
    "x=[\"apple\",\"banana\",\"cat\",\"dog\",35,4.7,57j]\n",
    "print(x[0:3])  # we will sperate starting and ending position by (:)colon.\n",
    "#it will start with 0 index and end index 3 but the 3 index value will not include.\n",
    "\n",
    "print(x[:4]) #it will print all values from 0 to 4. but 4 is not included.\n",
    "print(x[3:])  #it will print all values from 3 to the end index.\n",
    "print(x[:])  #it will all values from 1 index to last index.\n",
    "     #APNI TRICK:- [small value : large value] otherwise error. apply in all\n",
    "\n",
    "#negative indexing.\n",
    "print(x[-4:-1])  #it will also not include -1 index value \n",
    "print(x[:-1])  #print all except -1 index value\n",
    "print(x[-4:])   #print all value from index -4 to -1 (it will also print here)\n",
    "\n",
    "print(x[::-1])  #it will reverse the list\n"
   ]
  },
  {
   "cell_type": "code",
   "execution_count": null,
   "metadata": {},
   "outputs": [],
   "source": [
    "#list- tricks\n",
    "\n",
    "#change the value in list:-\n",
    "\"\"\"To change the value of a specific item, refer to the index number:\"\"\"\n",
    "x=[\"apple\",\"banana\",\"cat\",\"dog\",35,4.7,57j]\n",
    "x[0]=\"aman\"\n",
    "print(x)\n",
    "\n",
    "#Loop Through a List:-\n",
    "\"\"\"You can loop through the list items by using a for loop:\"\"\"\n",
    "thislist = [\"apple\", \"banana\", \"cherry\"]\n",
    "for x in thislist:\n",
    "  print(x)\n",
    "for x in \"apple\":\n",
    "    print(x)\n",
    "\n",
    "#Check if Item Exists\n",
    "thislist = [\"apple\", \"banana\", \"cherry\"]\n",
    "if \"apple\" in thislist:\n",
    "  print(\"Yes, 'apple' is in the fruits list\")\n",
    "\n",
    "#List Length\n",
    "thislist = [\"apple\", \"banana\", \"cherry\"]\n",
    "print(len(thislist))\n",
    "\n",
    "\n",
    "\n",
    "#Add Items\n",
    "\"\"\"To add an item to the end of the list, use the append() method:\"\"\"\n",
    "thislist = [\"apple\", \"banana\", \"cherry\"]\n",
    "thislist.append(\"orange\")\n",
    "print(thislist)\n",
    "\n",
    "\"\"\"To add an item at the specified index, use the insert() method:\"\"\"\n",
    "thislist = [\"apple\", \"banana\", \"cherry\"]\n",
    "thislist.insert(1, \"orange\")\n",
    "print(thislist)\n",
    "\n",
    "\n",
    "#Remove item:-\n",
    "\"\"\"The remove() method removes the specified item:\"\"\"\n",
    "thislist = [\"apple\", \"banana\", \"cherry\"]\n",
    "thislist.remove(\"banana\")\n",
    "print(thislist)\n",
    "\n",
    "\"\"\"The pop()method removes the specified index,(or the last item if index is not specified):\"\"\"\n",
    "thislist = [\"apple\", \"banana\", \"cherry\"]\n",
    "thislist.pop()\n",
    "print(thislist)\n",
    "\n",
    "\"\"\"The del keyword removes the specified index:\"\"\"\n",
    "thislist = [\"apple\", \"banana\", \"cherry\"]\n",
    "del thislist[0]\n",
    "print(thislist)\n",
    "\n",
    "\"\"\"The del keyword can also delete the list completely:\"\"\"\n",
    "thislist = [\"apple\", \"banana\", \"cherry\"]\n",
    "del thislist\n",
    "\n",
    "\"\"\"The clear() method empties the list:\"\"\"\n",
    "thislist = [\"apple\", \"banana\", \"cherry\"]\n",
    "thislist.clear()\n",
    "print(thislist)\n",
    "\n",
    "\n",
    "#Copy a List\n",
    "\"\"\"You cannot copy a list simply by typing list2 = list1, because: list2 will only be a \n",
    "reference to list1, and changes made in list1 will automatically also be made in list2.\n",
    "There are ways to make a copy, one way is to use the built-in List method copy().\"\"\"\n",
    "\n",
    "thislist = [\"apple\", \"banana\", \"cherry\"]\n",
    "mylist = thislist.copy()\n",
    "print(mylist)\n",
    "\n",
    "\"\"\"Another way to make a copy is to use the built-in method list().\"\"\"\n",
    "thislist = [\"apple\", \"banana\", \"cherry\"]\n",
    "mylist = list(thislist)\n",
    "print(mylist)\n",
    "\n",
    "\n",
    "\n",
    "#Join Two Lists\n",
    "\"\"\"There are several ways to join, or concatenate, two or more lists in Python.\n",
    "One of the easiest ways are by using the + operator.\"\"\"\n",
    "list1 = [\"a\", \"b\" , \"c\"]\n",
    "list2 = [1, 2, 3]\n",
    "\n",
    "list3 = list1 + list2\n",
    "print(list3)\n",
    "\n",
    "\n",
    "for x in list2:\n",
    "  list1.append(x)\n",
    "print(list1)\n",
    "\n",
    "\n",
    "list1.extend(list2)\n",
    "print(list1)\n",
    "\n",
    "#The list() Constructor\n",
    "\"\"\"It is also possible to use the list() constructor to make a new list.\"\"\"\n",
    "thislist = list((\"apple\", \"banana\", \"cherry\")) # note the double round-brackets\n",
    "print(thislist)"
   ]
  },
  {
   "cell_type": "code",
   "execution_count": null,
   "metadata": {},
   "outputs": [],
   "source": [
    "#Python has a set of built-in methods that you can use on lists.\n",
    "\n",
    "Method                                              Description\n",
    "append()\t                        Adds an element at the end of the list\n",
    "clear()\t                           Removes all the elements from the list\n",
    "copy()\t                             Returns a copy of the list\n",
    "count()\t                         Returns the number of elements with the specified value\n",
    "extend()\t       Add the elements of a list (or any iterable), to the end of the current list\n",
    "index() \t                    Returns the index of the first element with the specified value\n",
    "insert()\t                      Adds an element at the specified position\n",
    "pop()\t                      Removes the element at the specified position\n",
    "remove()\t                    Removes the item with the specified value\n",
    "reverse()\t                          Reverses the order of the list\n",
    "sort()\t                                      Sorts the list\n"
   ]
  }
 ],
 "metadata": {
  "kernelspec": {
   "display_name": "Python 3",
   "language": "python",
   "name": "python3"
  },
  "language_info": {
   "codemirror_mode": {
    "name": "ipython",
    "version": 3
   },
   "file_extension": ".py",
   "mimetype": "text/x-python",
   "name": "python",
   "nbconvert_exporter": "python",
   "pygments_lexer": "ipython3",
   "version": "3.7.6"
  }
 },
 "nbformat": 4,
 "nbformat_minor": 4
}
