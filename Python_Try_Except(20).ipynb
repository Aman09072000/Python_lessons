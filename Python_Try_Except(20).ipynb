{
 "cells": [
  {
   "cell_type": "markdown",
   "metadata": {},
   "source": [
    "# Lean_Python_with_Me"
   ]
  },
  {
   "cell_type": "markdown",
   "metadata": {},
   "source": [
    "            # By- Aman Gupta                                          Date- 01/06/20"
   ]
  },
  {
   "cell_type": "markdown",
   "metadata": {},
   "source": [
    "# Python Try Except"
   ]
  },
  {
   "cell_type": "code",
   "execution_count": null,
   "metadata": {},
   "outputs": [],
   "source": [
    "\"\"\"The try block lets you test a block of code for errors.\n",
    "\n",
    "The except block lets you handle the error.\n",
    "\n",
    "The finally block lets you execute code, regardless of the result of the try- and except\n",
    "blocks.\"\"\""
   ]
  },
  {
   "cell_type": "code",
   "execution_count": null,
   "metadata": {},
   "outputs": [],
   "source": [
    "#Exception Handling:-\n",
    "\"\"\"When an error occurs, or exception as we call it, Python will normally stop and generate\n",
    "an error message.\n",
    "These exceptions can be handled using the try statement:\"\"\"\n",
    "\n",
    "#The try block will generate an error, because x is not defined:\n",
    "try:\n",
    "  print(x)\n",
    "except:\n",
    "  print(\"An exception occurred\")\n",
    "\n",
    "\"\"\"Since the try block raises an error, the except block will be executed.\n",
    "Without the try block, the program will crash and raise an error\"\"\""
   ]
  },
  {
   "cell_type": "code",
   "execution_count": 1,
   "metadata": {},
   "outputs": [
    {
     "name": "stdout",
     "output_type": "stream",
     "text": [
      "Variable x is not defined\n"
     ]
    }
   ],
   "source": [
    "#Many Exceptions:-\n",
    "\"\"\"You can define as many exception blocks as you want, e.g. if you want to execute a special\n",
    "block of code for a special kind of error:\"\"\"\n",
    "\n",
    "#The try block will generate a NameError, because x is not defined:\n",
    "try:\n",
    "  print(x)\n",
    "except NameError:\n",
    "  print(\"Variable x is not defined\")\n",
    "except:\n",
    "  print(\"Something else went wrong\")\n"
   ]
  },
  {
   "cell_type": "code",
   "execution_count": null,
   "metadata": {},
   "outputs": [],
   "source": [
    "#Else:-\n",
    "\"\"\"You can use the else keyword to define a block of code to be executed if no errors were \n",
    "raised:\"\"\"\n",
    "\n",
    "#The try block does not raise any errors, so the else block is executed:\n",
    "try:\n",
    "  print(\"Hello\")\n",
    "except:\n",
    "  print(\"Something went wrong\")\n",
    "else:\n",
    "  print(\"Nothing went wrong\")\n"
   ]
  },
  {
   "cell_type": "code",
   "execution_count": null,
   "metadata": {},
   "outputs": [],
   "source": [
    "#Finally:-\n",
    "\"\"\"The finally block, if specified, will be executed regardless if the try block raises an\n",
    "error or not.\"\"\"\n",
    "\n",
    "#The finally block gets executed no matter if the try block raises any errors or not:\n",
    "try:\n",
    "  print(x)\n",
    "except:\n",
    "  print(\"Something went wrong\")\n",
    "finally:\n",
    "  print(\"The 'try except' is finished\")\n",
    "\n",
    "#This can be useful to close objects and clean up resources"
   ]
  },
  {
   "cell_type": "code",
   "execution_count": null,
   "metadata": {},
   "outputs": [],
   "source": [
    "#try to open and write to a file that is not writable:\n",
    "\n",
    "#The try block will raise an error when trying to write to a read-only file:\n",
    "try:\n",
    "  f = open(\"demofile.txt\")\n",
    "  f.write(\"Lorum Ipsum\")\n",
    "except:\n",
    "  print(\"Something went wrong when writing to the file\")\n",
    "finally:\n",
    "  f.close()\n",
    "\n",
    "#The program can continue, without leaving the file object open\n"
   ]
  },
  {
   "cell_type": "code",
   "execution_count": null,
   "metadata": {},
   "outputs": [],
   "source": [
    "#Raise an exception:-\n",
    "\"\"\"As a Python developer you can choose to throw an exception if a condition occurs.\n",
    "To throw (or raise) an exception, use the raise keyword\"\"\"\n",
    "\n",
    "x = -1              #Raise an error and stop the program if x is lower than 0\n",
    "if x < 0:\n",
    "  raise Exception(\"Sorry, no numbers below zero\")\n",
    "\n",
    "\"\"\"The raise keyword is used to raise an exception.\n",
    "You can define what kind of error to raise, and the text to print to the user.\"\"\"\n",
    "\n",
    "#Raise a TypeError if x is not an integer\n",
    "x = \"hello\"\n",
    "if not type(x) is int:\n",
    "  raise TypeError(\"Only integers are allowed\")\n"
   ]
  }
 ],
 "metadata": {
  "kernelspec": {
   "display_name": "Python 3",
   "language": "python",
   "name": "python3"
  },
  "language_info": {
   "codemirror_mode": {
    "name": "ipython",
    "version": 3
   },
   "file_extension": ".py",
   "mimetype": "text/x-python",
   "name": "python",
   "nbconvert_exporter": "python",
   "pygments_lexer": "ipython3",
   "version": "3.7.6"
  }
 },
 "nbformat": 4,
 "nbformat_minor": 4
}
