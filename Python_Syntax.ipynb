{
 "cells": [
  {
   "cell_type": "markdown",
   "metadata": {},
   "source": [
    "# #Learn_Python_with_Me."
   ]
  },
  {
   "cell_type": "markdown",
   "metadata": {},
   "source": [
    "          #By-Aman Gupta                                                   #Date-26/05/20"
   ]
  },
  {
   "cell_type": "markdown",
   "metadata": {},
   "source": [
    "## Python Syntax"
   ]
  },
  {
   "cell_type": "markdown",
   "metadata": {},
   "source": [
    "# comment Statement -:"
   ]
  },
  {
   "cell_type": "code",
   "execution_count": null,
   "metadata": {},
   "outputs": [],
   "source": [
    "   \"\"\"In python or any programming language we can use Comments for explain Python code and make our code\n",
    "   more readable . the comment statement will we ignored by the interpreter and it will prevent execution \n",
    "   of the line when testing code.\n",
    "   \n",
    "   in python programming language we will use hash(#) sign to write a comment.and it will ignore\n",
    "   while running the code. we can use # for a single line commenting by the help of it only a single\n",
    "   line will convert into a comment.\"\"\""
   ]
  },
  {
   "cell_type": "code",
   "execution_count": null,
   "metadata": {},
   "outputs": [],
   "source": [
    "#Example of commenting-\n",
    "\n",
    "\n",
    "#it is a comment.\n"
   ]
  },
  {
   "cell_type": "code",
   "execution_count": null,
   "metadata": {},
   "outputs": [],
   "source": [
    "# NOTE -:\n",
    " \n",
    "\"\"\"In python there is nothing like multiple line commenting .but we will use multiple line string\n",
    "   method for writing a multiple lines of comments . as when a string is writien without assigning\n",
    "   to variable it will we be ignored by the compiler while running.\"\"\""
   ]
  },
  {
   "cell_type": "code",
   "execution_count": null,
   "metadata": {},
   "outputs": [],
   "source": [
    "#Example of multipple line commenting-\n",
    "\n",
    "\"\"\"it is  \n",
    "        multiple line \n",
    "                commenting\"\"\"  \n",
    "\n",
    "# we will also use multiple # for writing multiple line of commenting-\n",
    "\n",
    "#it is \n",
    "#multiple line\n",
    "#comment"
   ]
  },
  {
   "cell_type": "markdown",
   "metadata": {},
   "source": [
    "# First_Python_Code."
   ]
  },
  {
   "cell_type": "code",
   "execution_count": null,
   "metadata": {},
   "outputs": [],
   "source": [
    "print(\"hello World\")"
   ]
  },
  {
   "cell_type": "code",
   "execution_count": null,
   "metadata": {},
   "outputs": [],
   "source": [
    "\"\"\"To print something on the console, print()function is used. This function also adds a newline \n",
    "   after our message is printed.\n",
    "   and under it we will write aur statement \"\"\""
   ]
  },
  {
   "cell_type": "markdown",
   "metadata": {},
   "source": [
    "# Variables."
   ]
  },
  {
   "cell_type": "code",
   "execution_count": null,
   "metadata": {},
   "outputs": [],
   "source": [
    "\"\"\"Variables are containers for storing data values.\n",
    "Unlike other programming languages, Python has no command for declaring a variable.\n",
    "A variable is created the moment you first assign a value to it.\n",
    "\n",
    "Variables do not need to be declared with any particular type and can even change \n",
    "type after they have been set.\"\"\""
   ]
  },
  {
   "cell_type": "code",
   "execution_count": null,
   "metadata": {},
   "outputs": [],
   "source": [
    "x=5  #int\n",
    "print(x)"
   ]
  },
  {
   "cell_type": "code",
   "execution_count": null,
   "metadata": {},
   "outputs": [],
   "source": [
    "x=\"ram\" \n",
    "y='shyam'    #string(str) it is always define with single or double quotes.\n",
    "print(x)\n",
    "print(y)"
   ]
  },
  {
   "cell_type": "code",
   "execution_count": null,
   "metadata": {},
   "outputs": [],
   "source": [
    "x=7.21\n",
    "print(x)"
   ]
  },
  {
   "cell_type": "code",
   "execution_count": null,
   "metadata": {},
   "outputs": [],
   "source": [
    "c=5+3j #complex no (in python we will use j in place of in complex no)\n",
    "print(c)"
   ]
  },
  {
   "cell_type": "code",
   "execution_count": null,
   "metadata": {},
   "outputs": [],
   "source": [
    "#we will also change the value of the variables."
   ]
  },
  {
   "cell_type": "code",
   "execution_count": null,
   "metadata": {},
   "outputs": [],
   "source": [
    "x=34\n",
    "print(x)\n",
    "x=\"rohan\"\n",
    "print(x)\n",
    "x=4.5\n",
    "print(x)"
   ]
  },
  {
   "cell_type": "markdown",
   "metadata": {},
   "source": [
    "# Rules_for_writing_variable_name."
   ]
  },
  {
   "cell_type": "code",
   "execution_count": null,
   "metadata": {},
   "outputs": [],
   "source": [
    "#for writing a variable name there are some set of rules which we will follow for writing a pyhton code. \n",
    " \n",
    "\"\"\"A variable can have a short name (like x and y) or a more descriptive name (age, carname,\n",
    "    total_volume). Rules for Python variables:\n",
    "->A variable name must start with a letter or the underscore character\n",
    "->A variable name cannot start with a number\n",
    "->A variable name can only contain alpha-numeric characters and underscores (A-z, 0-9, and _ )\n",
    "->Variable names are case-sensitive (age, Age and AGE are three different variables)\n",
    "  Example\"\"\""
   ]
  },
  {
   "cell_type": "code",
   "execution_count": null,
   "metadata": {},
   "outputs": [],
   "source": [
    "#valid variables\n",
    "\n",
    "name=\"ram\"\n",
    "Name=\"shyam\"\n",
    "_name=\"rohan\"\n",
    "N_678ame=45"
   ]
  },
  {
   "cell_type": "code",
   "execution_count": null,
   "metadata": {},
   "outputs": [],
   "source": [
    "a=b=c=\"ram\"\n",
    "print(a)     #assign same value to a multiple variables.\n",
    "print(b)\n",
    "print(c)"
   ]
  },
  {
   "cell_type": "code",
   "execution_count": null,
   "metadata": {},
   "outputs": [],
   "source": [
    "a,b,c=\"ram\",\"shyam\",\"rohan\"\n",
    "print(a)     #assign diff values to the different variables.\n",
    "print(b)\n",
    "print(c)"
   ]
  },
  {
   "cell_type": "code",
   "execution_count": null,
   "metadata": {},
   "outputs": [],
   "source": [
    "a=\"fine\"\n",
    "print(\"this is\"+a)  # by the help of it we can add(+) we will add multiple values of same type.\n",
    "#but we can not add str value to int value and a int value to a str value .same happent with complex"
   ]
  },
  {
   "cell_type": "code",
   "execution_count": null,
   "metadata": {},
   "outputs": [],
   "source": [
    "a=\"hyy\"\n",
    "b='byy'\n",
    "c=a+b\n",
    "print(c)"
   ]
  },
  {
   "cell_type": "code",
   "execution_count": null,
   "metadata": {},
   "outputs": [],
   "source": [
    "a=4   #it give an error \n",
    "print(\"it is=\"+a)"
   ]
  },
  {
   "cell_type": "code",
   "execution_count": null,
   "metadata": {},
   "outputs": [],
   "source": [
    "a=\"four\"  #it give an error\n",
    "print(4+a)"
   ]
  },
  {
   "cell_type": "code",
   "execution_count": null,
   "metadata": {},
   "outputs": [],
   "source": [
    "a=4j\n",
    "print(\"hellow\"+a)"
   ]
  },
  {
   "cell_type": "code",
   "execution_count": null,
   "metadata": {},
   "outputs": [],
   "source": []
  }
 ],
 "metadata": {
  "kernelspec": {
   "display_name": "Python 3",
   "language": "python",
   "name": "python3"
  },
  "language_info": {
   "codemirror_mode": {
    "name": "ipython",
    "version": 3
   },
   "file_extension": ".py",
   "mimetype": "text/x-python",
   "name": "python",
   "nbconvert_exporter": "python",
   "pygments_lexer": "ipython3",
   "version": "3.7.6"
  }
 },
 "nbformat": 4,
 "nbformat_minor": 4
}
