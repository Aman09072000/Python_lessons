{
 "cells": [
  {
   "cell_type": "markdown",
   "metadata": {},
   "source": [
    "# Learn_Python_with_Me"
   ]
  },
  {
   "cell_type": "markdown",
   "metadata": {},
   "source": [
    "         # By- Aman Gupta                                                   #Date - 27/05/2020"
   ]
  },
  {
   "cell_type": "markdown",
   "metadata": {},
   "source": [
    "# Random_Number"
   ]
  },
  {
   "cell_type": "code",
   "execution_count": null,
   "metadata": {},
   "outputs": [],
   "source": [
    "\"\"\"In python programming language We dont have a built-in function or a random function for make\n",
    "a random no.\n",
    "But Python has a Built-in module that is called random .that is used to make a random no.\"\"\"\n",
    "\n",
    "#example\n",
    "import random   #we will always import a random module .for displaying a random no.\n",
    "print(random.randrange(1,5))  #By random.randrange will spacify a range for a random no 1 to 4\n",
    "                                 #    (it is one less than 5) when range is (1,5)"
   ]
  },
  {
   "cell_type": "code",
   "execution_count": null,
   "metadata": {},
   "outputs": [],
   "source": [
    "import random\n",
    "random.randrange(1,7,2)\n"
   ]
  },
  {
   "cell_type": "code",
   "execution_count": null,
   "metadata": {
    "scrolled": false
   },
   "outputs": [],
   "source": [
    "\"\"\"random.randrange(stop)\n",
    "random.randrange(start, stop[, step])\n",
    "Return a randomly selected element from range(start, stop, step).\n",
    "This is equivalent to choice(range(start, stop, step)), but doesn’t actually build a range object.\n",
    "\n",
    "The positional argument pattern matches that of range(). \n",
    "Keyword arguments should not be used because the function may use them in unexpected ways.\n",
    "\n",
    "Changed in version 3.2: randrange() is more sophisticated about \n",
    "producing equally distributed values. Formerly it used a style like int(random()*n) \n",
    "which could produce slightly uneven distributions.\n",
    "\n",
    "random.randint(a, b)\n",
    "Return a random integer N such that a <= N <= b. Alias for randrange(a, b+1).\"\"\""
   ]
  },
  {
   "cell_type": "code",
   "execution_count": null,
   "metadata": {},
   "outputs": [],
   "source": [
    "import random\n",
    "random.randint(1,7)"
   ]
  },
  {
   "cell_type": "markdown",
   "metadata": {},
   "source": [
    "# Casting_in_pyhton"
   ]
  },
  {
   "cell_type": "code",
   "execution_count": null,
   "metadata": {},
   "outputs": [],
   "source": [
    "\"\"\"There may be times when you want to specify a type on to a variable. This can be done with \n",
    "casting. Python is an object-orientated language, and as such it uses classes to define data types,\n",
    "including its primitive types.\n",
    "\n",
    "Casting in python is therefore done using constructor functions:\n",
    "\n",
    "int() - constructs an integer number from an integer literal, a float literal (by rounding down to \n",
    "the previous whole number), or a string literal (providing the string represents a whole number)\n",
    "float() - constructs a float number from an integer literal, a float literal or a string literal \n",
    "(providing the string represents a float or an integer)\n",
    "str() - constructs a string from a wide variety of data types, including strings, integer literals \n",
    "and float literals\n",
    "\"\"\""
   ]
  },
  {
   "cell_type": "code",
   "execution_count": null,
   "metadata": {},
   "outputs": [],
   "source": [
    "#example\n",
    "print(int(1))\n",
    "print(int(\"34\"))\n",
    "print(int(38.6))\n",
    "\n",
    "print(float(1))\n",
    "print(float(\"34\"))\n",
    "print(float(38.6))\n",
    "\n",
    "print(str(1))\n",
    "print(str(\"34\"))\n",
    "print(str(38.6))"
   ]
  },
  {
   "cell_type": "markdown",
   "metadata": {},
   "source": [
    "# Something_about_String"
   ]
  },
  {
   "cell_type": "code",
   "execution_count": null,
   "metadata": {},
   "outputs": [],
   "source": [
    "\"\"\"As we know the string are writien only in single quote('') and in double quote(\"\") . \"\"\"\n",
    "\n",
    "print(\"string\")\n",
    "print('string2')\n",
    "\n",
    "\"\"\"and for multiple line string we have multiple line string which we can by assigning our string \n",
    " between a triple single quote('''  ''') or by a triple double quote(\"\"\" \"\"\").\"\"\"\n",
    "\n",
    "print(\"\"\"it is \n",
    "            string\"\"\")\n",
    "print('''it is\n",
    "            string2''')"
   ]
  },
  {
   "cell_type": "code",
   "execution_count": null,
   "metadata": {},
   "outputs": [],
   "source": [
    "#String are array.\n",
    "\n",
    "\"\"\"Like many other popular programming languages, strings in Python are arrays of bytes \n",
    "representing unicode characters.\n",
    "However, Python does not have a character data type, a single character is simply a string \n",
    "with a length of 1.\n",
    "Square brackets can be used to access elements of the string.\"\"\"\n",
    "\n",
    "x=\"Aman\"\n",
    "print(x[0])  #as the array start with 0 . so the first element has a index value 0 in A.\n",
    "print(x[-1])  #in negative indexing it start with last of the string like the -1 is n.\n",
    "print(x[1],x[2])"
   ]
  },
  {
   "cell_type": "code",
   "execution_count": null,
   "metadata": {},
   "outputs": [],
   "source": [
    "# Slicing in String\n",
    "\n",
    "x=\"ram and shyam\"\n",
    "print(x[1:5])    # we learn more deeply about slicing in our upcoming slidies. \n",
    "print(x[-3:-1])   # here the 5 from 1st and -1 from 2nd will not include in our string."
   ]
  },
  {
   "cell_type": "code",
   "execution_count": null,
   "metadata": {},
   "outputs": [],
   "source": [
    "# SOME USE FULL FUNCTIONS USED IN STRINGS-\n",
    "\n",
    "#len() function\n",
    "\"\"\"To get the length of a string, use the len() function.\"\"\"\n",
    "\n",
    "a = \"it defines a length\"\n",
    "print(len(a))\n",
    "\n",
    "print(len(a)-1)"
   ]
  },
  {
   "cell_type": "code",
   "execution_count": null,
   "metadata": {},
   "outputs": [],
   "source": [
    "#String- methods (they all are built in methods)\n",
    "\n",
    "\"\"\"Python has a set of built-in methods that you can use on strings.\"\"\"\n",
    "\n",
    "#1)--The strip() method removes any whitespace from the beginning or the end:\n",
    "\n",
    "a=\" ram\"\n",
    "print(a.strip())"
   ]
  },
  {
   "cell_type": "code",
   "execution_count": null,
   "metadata": {},
   "outputs": [],
   "source": [
    "#2)--The lower() method returns the string in lower case:\n",
    "\n",
    "a=\"RAM\"\n",
    "print(a.lower())"
   ]
  },
  {
   "cell_type": "code",
   "execution_count": null,
   "metadata": {},
   "outputs": [],
   "source": [
    "#3)--The upper() method returns the string in upper case:\n",
    "a=\"shyam\"\n",
    "b=\"ram\"\n",
    "print(b.upper())   #here the sequence is a is variable and after .(dot) is object that is upper()\n"
   ]
  },
  {
   "cell_type": "code",
   "execution_count": null,
   "metadata": {},
   "outputs": [],
   "source": [
    "print(a.b.upper())  #it give an error we cant fall two value at the same time."
   ]
  },
  {
   "cell_type": "code",
   "execution_count": null,
   "metadata": {},
   "outputs": [],
   "source": [
    "#4)--The replace() method replaces a string with another string:\n",
    "\n",
    "a=\"pam\"\n",
    "print(a.replace(\"p\",\"r\"))\n",
    "print(a.replace(\"am\",\"at\"))  #the first value is which we can replace and second is \n",
    "                                   #the value with which we can replace"
   ]
  },
  {
   "cell_type": "code",
   "execution_count": null,
   "metadata": {},
   "outputs": [],
   "source": [
    "#5)--The split() method splits the string into substrings if it finds instances of the separator:\n",
    "\n",
    "a = \"Hello, World!\"\n",
    "print(a.split(\",\")) \n",
    "print(a.split(\"l\"))"
   ]
  },
  {
   "cell_type": "code",
   "execution_count": null,
   "metadata": {},
   "outputs": [],
   "source": [
    "#the other methods are--\n",
    "https://www.w3schools.com/python/python_ref_string.asp"
   ]
  },
  {
   "cell_type": "markdown",
   "metadata": {},
   "source": [
    "# Check_string"
   ]
  },
  {
   "cell_type": "code",
   "execution_count": null,
   "metadata": {},
   "outputs": [],
   "source": [
    "\"\"\"To check if a certain phrase or character is present in a string, we can use the \n",
    "keywords in or not in.\"\"\"\n",
    "\n",
    "#Check if the phrase \"ain\" is present in the following text:\n",
    "\n",
    "txt = \"The rain in Spain stays mainly in the plain\"\n",
    "x = \"ain\" in txt\n",
    "print(x)          #it gives output in boolean in true or false"
   ]
  },
  {
   "cell_type": "code",
   "execution_count": null,
   "metadata": {},
   "outputs": [],
   "source": [
    "#Check if the phrase \"ain\" is NOT present in the following text:\n",
    "\n",
    "txt = \"The rain in Spain stays mainly in the plain\"\n",
    "x = \"ain\" not in txt\n",
    "print(x)                         it give output in boolean that is true or false"
   ]
  },
  {
   "cell_type": "code",
   "execution_count": null,
   "metadata": {},
   "outputs": [],
   "source": [
    "#lets play with it\n",
    "\n",
    "a=\"you enjoy learning python\"\n",
    "b=\"joy\" in a , \"ing\" in a\n",
    "print(b)"
   ]
  },
  {
   "cell_type": "code",
   "execution_count": null,
   "metadata": {},
   "outputs": [],
   "source": [
    "c=\"he is ram\"                              #here we use two diferent string.\n",
    "b=\"jot\" in a, \"ing\" in a, \"am\" in c\n",
    "print(b)"
   ]
  },
  {
   "cell_type": "code",
   "execution_count": null,
   "metadata": {},
   "outputs": [],
   "source": [
    "# we will combine the two different string by-\n",
    "\n",
    "a=\"aman\"\n",
    "b=\"going to cafe\"\n",
    "c=a+b\n",
    "print(c)                         #we will do this by using (+) operator and a (,)\n",
    "print(a+b)\n",
    "print(a + \" \" + b)\n",
    "print(a,b)"
   ]
  },
  {
   "cell_type": "markdown",
   "metadata": {},
   "source": [
    "# String_format"
   ]
  },
  {
   "cell_type": "code",
   "execution_count": null,
   "metadata": {},
   "outputs": [],
   "source": [
    "#we cannot combine strings and numbers like this:\n",
    "\n",
    "a=2\n",
    "b=\"the no is=\"\n",
    "print(a+b)   #it give us a error as we cant join a string value and integer value direct in python.\n",
    "print(\"it is\" +a)"
   ]
  },
  {
   "cell_type": "code",
   "execution_count": null,
   "metadata": {},
   "outputs": [],
   "source": [
    "print(b,a)          #we can use (,) to join int and string values"
   ]
  },
  {
   "cell_type": "code",
   "execution_count": null,
   "metadata": {},
   "outputs": [],
   "source": [
    "\"\"\" we can combine strings and numbers by using the format() method!\n",
    "The format() method takes the passed arguments, formats them, and places them in the string\n",
    "where the placeholders {} are:\"\"\"\n",
    "\n",
    "b=\"it is no {}\"\n",
    "print(b.format(a))  "
   ]
  },
  {
   "cell_type": "code",
   "execution_count": null,
   "metadata": {},
   "outputs": [],
   "source": [
    "\"\"\"The format() method takes unlimited number of arguments, and are placed into the respective\n",
    "   placeholders:\"\"\"\n",
    "quantity = 3\n",
    "itemno = 567\n",
    "price = 49.95\n",
    "myorder = \"I want {} pieces of item {} for {} dollars.\"\n",
    "print(myorder.format(quantity, itemno, price))\n",
    "\n",
    "\"\"\"we will also asign index value with them also\"\"\"\n",
    "\n",
    "myorder=\"i need {1} apple and {0} banana\"\n",
    "print(myorder.format(1,2))  # direct assign values"
   ]
  },
  {
   "cell_type": "code",
   "execution_count": null,
   "metadata": {},
   "outputs": [],
   "source": [
    "#Escape caracters-\n",
    "\n",
    "\"\"\"To insert characters that are illegal in a string, use an escape character.\n",
    "An escape character is a backslash \\ followed by the character you want to insert.\n",
    "An example of an illegal character is a double quote inside a string that is surrounded by \n",
    "double quotes:\"\"\"\n",
    "\n",
    "#You will get an error if you use double quotes inside a string that is surrounded by double quotes:\n",
    "\n",
    "txt = \"We are the so-called \"Vikings\" from the north.\"\n",
    "print(txt)"
   ]
  },
  {
   "cell_type": "code",
   "execution_count": null,
   "metadata": {},
   "outputs": [],
   "source": [
    "#for solving it we use escape character \\\"  :--\n",
    "\n",
    "\n",
    "txt = \"We are the so-called \\\"Vikings \\\" from the north.\"\n",
    "print(txt)"
   ]
  },
  {
   "cell_type": "code",
   "execution_count": null,
   "metadata": {},
   "outputs": [],
   "source": [
    "#other escape caracters are:-\n",
    "\n",
    "\n",
    "\"\"\"\n",
    "         \\' -   Single Quote\n",
    "         \\\\ -   Backslash\n",
    "         \\n -   New Line\n",
    "         \\r -   Carriage Return\n",
    "         \\t -   Tab\n",
    "         \\b -   Backspace\n",
    "         \\f -   Form Feed\n",
    "         \\ooo -  Octal value\n",
    "        \\xhh  -  Hex value\n",
    "\"\"\""
   ]
  },
  {
   "cell_type": "code",
   "execution_count": null,
   "metadata": {},
   "outputs": [],
   "source": []
  }
 ],
 "metadata": {
  "kernelspec": {
   "display_name": "Python 3",
   "language": "python",
   "name": "python3"
  },
  "language_info": {
   "codemirror_mode": {
    "name": "ipython",
    "version": 3
   },
   "file_extension": ".py",
   "mimetype": "text/x-python",
   "name": "python",
   "nbconvert_exporter": "python",
   "pygments_lexer": "ipython3",
   "version": "3.7.6"
  }
 },
 "nbformat": 4,
 "nbformat_minor": 4
}
