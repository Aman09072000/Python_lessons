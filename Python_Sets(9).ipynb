{
 "cells": [
  {
   "cell_type": "markdown",
   "metadata": {},
   "source": [
    "# Learn_Python_with_Me"
   ]
  },
  {
   "cell_type": "markdown",
   "metadata": {},
   "source": [
    "    #By - Aman Gupta                                        #Date- 29/05/20"
   ]
  },
  {
   "cell_type": "markdown",
   "metadata": {},
   "source": [
    "# Python_Sets"
   ]
  },
  {
   "cell_type": "code",
   "execution_count": 4,
   "metadata": {},
   "outputs": [
    {
     "name": "stdout",
     "output_type": "stream",
     "text": [
      "{'banana', 'apple', 'cherry'}\n"
     ]
    }
   ],
   "source": [
    "\"\"\"A set is a collection which is unordered and unindexed. In Python sets are written with\n",
    "curly brackets.\"\"\"\n",
    "\n",
    "thisset = {\"apple\", \"banana\", \"cherry\"}\n",
    "print(thisset)"
   ]
  },
  {
   "cell_type": "code",
   "execution_count": 2,
   "metadata": {},
   "outputs": [],
   "source": [
    "#Note: Sets are unordered, so you cannot be sure in which order the items will appear."
   ]
  },
  {
   "cell_type": "code",
   "execution_count": 5,
   "metadata": {},
   "outputs": [
    {
     "name": "stdout",
     "output_type": "stream",
     "text": [
      "banana\n",
      "apple\n",
      "cherry\n",
      "True\n",
      "{'banana', 'orange', 'apple', 'cherry'}\n",
      "{'orange', 'banana', 'mango', 'grapes', 'apple', 'cherry'}\n"
     ]
    }
   ],
   "source": [
    "#set-trick\n",
    "\n",
    "#Access Items:-\n",
    "\"\"\"You cannot access items in a set by referring to an index, since sets are unordered the\n",
    "items has no index.\n",
    "But you can loop through the set items using a for loop, or ask if a specified value is\n",
    "present in a set, by using the in keyword.\"\"\"\n",
    "\n",
    "thisset = {\"apple\", \"banana\", \"cherry\"}\n",
    "for x in thisset:\n",
    "  print(x)\n",
    "\n",
    "print(\"banana\" in thisset) # it give value in True or False\n",
    "\n",
    "#Change Items:-\n",
    "\"\"\"Once a set is created, you cannot change its items, but you can add new items.\"\"\"\n",
    "\n",
    "#Add Items:-\n",
    "\"\"\"To add one item to a set use the add() method.\n",
    "To add more than one item to a set use the update() method.\n",
    "\"\"\"\n",
    "\n",
    "thisset = {\"apple\", \"banana\", \"cherry\"}\n",
    "thisset.add(\"orange\")\n",
    "print(thisset)\n",
    "thisset.update([\"orange\", \"mango\", \"grapes\"])\n",
    "print(thisset)\n",
    "\n",
    "#Get the Length of a Set:-\n",
    "thisset = {\"apple\", \"banana\", \"cherry\"}\n",
    "print(len(thisset))\n",
    "\n",
    "\n",
    "#Remove Item:-\n",
    "\"\"\"To remove an item in a set, use the remove(), or the discard() method.\"\"\"\n",
    "thisset = {\"apple\", \"banana\", \"cherry\"}\n",
    "thisset.remove(\"banana\")  #If the item to remove does not exist, remove() will raise an error\n",
    "print(thisset)\n",
    "\n",
    "thisset = {\"apple\", \"banana\", \"cherry\"}\n",
    "thisset.discard(\"banana\")  #If the item to remove does not exist,discard() will NOT raise error.\n",
    "print(thisset)"
   ]
  },
  {
   "cell_type": "code",
   "execution_count": null,
   "metadata": {},
   "outputs": [],
   "source": [
    "\"\"\"You can also use the pop(), method to remove an item, but this method will remove the last\n",
    "item. Remember that sets are unordered, so you will not know what item that gets removed.\n",
    "The return value of the pop() method is the removed item.\"\"\"\n",
    "\n",
    "thisset = {\"apple\", \"banana\", \"cherry\"}\n",
    "x = thisset.pop()\n",
    "print(x)            \n",
    "#Sets are unordered, so when using the pop() method, you will not know which item that gets removed.\n",
    "print(thisset)\n",
    "\n",
    "#The clear() method empties the set:\n",
    "thisset = {\"apple\", \"banana\", \"cherry\"}\n",
    "thisset.clear()\n",
    "print(thisset)\n",
    "\n",
    "#The del keyword will delete the set completely:\n",
    "thisset = {\"apple\", \"banana\", \"cherry\"}\n",
    "del thisset\n",
    "print(thisset)\n"
   ]
  },
  {
   "cell_type": "code",
   "execution_count": null,
   "metadata": {},
   "outputs": [],
   "source": [
    "#Join Two Sets:-\n",
    "\"\"\"There are several ways to join two or more sets in Python.\n",
    "You can use the union() method that returns a new set containing all items from both sets,\n",
    "or the update() method that inserts all the items from one set into another:\"\"\"\n",
    "\n",
    "set1 = {\"a\", \"b\" , \"c\"}\n",
    "set2 = {1, 2, 3}\n",
    "set3 = set1.union(set2)  #The union() method returns a new set with all items from both sets.\n",
    "print(set3)\n",
    "\n",
    "\n",
    "set1 = {\"a\", \"b\" , \"c\"}\n",
    "set2 = {1, 2, 3}\n",
    "set1.update(set2)      #The update() method inserts the items in set2 into set1\n",
    "print(set1)\n",
    "#Note: Both union() and update() will exclude any duplicate items."
   ]
  },
  {
   "cell_type": "code",
   "execution_count": null,
   "metadata": {},
   "outputs": [],
   "source": [
    "#The set() Constructor:-\n",
    "\"\"\"It is also possible to use the set() constructor to make a set.\"\"\"\n",
    "\n",
    "thisset = set((\"apple\", \"banana\", \"cherry\")) # note the double round-brackets\n",
    "print(thisset)"
   ]
  },
  {
   "cell_type": "code",
   "execution_count": null,
   "metadata": {},
   "outputs": [],
   "source": [
    "#Set Methods:-\n",
    "#Python has a set of built-in methods that you can use on sets.\n",
    "\n",
    "Method                                                                Description\n",
    "\n",
    "add()\t                                                     Adds an element to the set\n",
    "clear()\t                                             Removes all the elements from the set\n",
    "copy()\t                                                        Returns a copy of the set\n",
    "difference()\t             Returns a set containing the difference between two or more sets\n",
    "difference_update()\tRemoves the items in this set that are also included in another, specified set\n",
    "discard()\t                                               Remove the specified item\n",
    "intersection()\tReturns a set, that is the intersection of two other sets\n",
    "intersection_update()\tRemoves the items in this set that are not present in other, specified set(s)\n",
    "isdisjoint()\t                            Returns whether two sets have a intersection or not\n",
    "issubset()\t                             Returns whether another set contains this set or not\n",
    "issuperset()\t                           Returns whether this set contains another set or not\n",
    "pop()\t                                             Removes an element from the set\n",
    "remove()\t                                           Removes the specified element\n",
    "symmetric_difference()\t              Returns a set with the symmetric differences of two sets\n",
    "symmetric_difference_update()\t    inserts the symmetric differences from this set and another\n",
    "union()\t                                     Return a set containing the union of sets\n",
    "update()\t                         Update the set with the union of this set and others"
   ]
  },
  {
   "cell_type": "code",
   "execution_count": null,
   "metadata": {},
   "outputs": [],
   "source": []
  },
  {
   "cell_type": "code",
   "execution_count": null,
   "metadata": {},
   "outputs": [],
   "source": []
  }
 ],
 "metadata": {
  "kernelspec": {
   "display_name": "Python 3",
   "language": "python",
   "name": "python3"
  },
  "language_info": {
   "codemirror_mode": {
    "name": "ipython",
    "version": 3
   },
   "file_extension": ".py",
   "mimetype": "text/x-python",
   "name": "python",
   "nbconvert_exporter": "python",
   "pygments_lexer": "ipython3",
   "version": "3.7.6"
  }
 },
 "nbformat": 4,
 "nbformat_minor": 4
}
