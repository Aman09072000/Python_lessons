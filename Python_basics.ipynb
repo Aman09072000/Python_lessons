{
 "cells": [
  {
   "cell_type": "markdown",
   "metadata": {},
   "source": [
    "# Learn_Python_with_Me."
   ]
  },
  {
   "cell_type": "markdown",
   "metadata": {},
   "source": [
    "           #By - Aman Gupta                                       Date - 26-05-20    "
   ]
  },
  {
   "cell_type": "markdown",
   "metadata": {},
   "source": []
  },
  {
   "cell_type": "markdown",
   "metadata": {},
   "source": [
    "# Input_and_output"
   ]
  },
  {
   "cell_type": "code",
   "execution_count": null,
   "metadata": {},
   "outputs": [],
   "source": [
    "#here we will learn how to take a standard input by the user and manipulate or simply display its \n",
    "#output\n",
    "\n",
    "\n",
    "#input_function=\n",
    "\"\"\"input() is used to take inpur from the user. it is also a in-built- function of python just\n",
    "like print function \"\"\""
   ]
  },
  {
   "cell_type": "code",
   "execution_count": null,
   "metadata": {},
   "outputs": [],
   "source": [
    "x=input()  #simply take a input to the user. input will be anything means str,float,int,complex no etc.\n",
    "print(x)"
   ]
  },
  {
   "cell_type": "code",
   "execution_count": null,
   "metadata": {},
   "outputs": [],
   "source": [
    "x=input(\"enter a no=\")\n",
    "print(x)   #take input with a statement ."
   ]
  },
  {
   "cell_type": "code",
   "execution_count": null,
   "metadata": {},
   "outputs": [],
   "source": [
    "a=input(\"name\")\n",
    "print(\"your name is\",a)\n",
    "print(\"your name is\"+a)"
   ]
  },
  {
   "cell_type": "code",
   "execution_count": null,
   "metadata": {},
   "outputs": [],
   "source": [
    "num1=input(\"enter a first no=\")\n",
    "num2=input(\"enter a second no=\")\n",
    "result=num1+num2\n",
    "print(\"result is\",result)\n",
    "print(\"product is\",num2)\n"
   ]
  },
  {
   "cell_type": "code",
   "execution_count": null,
   "metadata": {},
   "outputs": [],
   "source": [
    "#if we take a input of only int type\n",
    "x=int(input(\"no=\"))  #it will only take integer value.\n",
    "print(x)"
   ]
  },
  {
   "cell_type": "code",
   "execution_count": null,
   "metadata": {},
   "outputs": [],
   "source": [
    "t=str(input(\"string is=\"))   # the string type of input will take all type of input like str,int,complex,float.\n",
    "print(t)"
   ]
  },
  {
   "cell_type": "code",
   "execution_count": null,
   "metadata": {},
   "outputs": [],
   "source": [
    "f=float(input())  #it will take int anf float type of input\n",
    "print(f)"
   ]
  },
  {
   "cell_type": "markdown",
   "metadata": {},
   "source": [
    "# Local_variable_and_global_variables."
   ]
  },
  {
   "cell_type": "code",
   "execution_count": null,
   "metadata": {},
   "outputs": [],
   "source": [
    "\"\"\"Global variables are those variables that are created outside of a function are known as \n",
    "global variables.Global variables can be used by everyone, both inside of functions and outside\n",
    "of function\"\"\""
   ]
  },
  {
   "cell_type": "code",
   "execution_count": null,
   "metadata": {},
   "outputs": [],
   "source": [
    "x=\"ram\"    # variable is define.\n",
    "def function(): #define a functionwith name function. and the def keyword is used to define afunction.\n",
    "    print(\"he is \",x)  #the give white-space is called indentation.\n",
    "function()   #calling a function name function."
   ]
  },
  {
   "cell_type": "code",
   "execution_count": null,
   "metadata": {},
   "outputs": [],
   "source": [
    "x=1  #gloabal variable\n",
    "y=2\n",
    "def add():\n",
    "    print(x+y)\n",
    "def sub():\n",
    "    z=3    #it is local variable\n",
    "    print(x*3)\n",
    "add()\n",
    "sub()\n",
    "print(z)  #it create an error . as we cant print a local variable outside the function."
   ]
  },
  {
   "cell_type": "code",
   "execution_count": null,
   "metadata": {},
   "outputs": [],
   "source": [
    "\"\"\"If you create a variable with the same name inside a function, this variable will be local,\n",
    "and can only be used inside the function.The global variable with the same name will remain\n",
    "as it was, global and with the original value.\"\"\""
   ]
  },
  {
   "cell_type": "code",
   "execution_count": null,
   "metadata": {},
   "outputs": [],
   "source": [
    "x=\"ram\"   #define global variable\n",
    "def name():\n",
    "    x=\"shyam\"    #define local variable\n",
    "    print(\"he is \",x)   #with it a local variable will combine.\n",
    "print(\"he is \",x)  #with it a global variable will combine.\n",
    "name()   #call our name function"
   ]
  },
  {
   "cell_type": "code",
   "execution_count": null,
   "metadata": {},
   "outputs": [],
   "source": [
    "\"\"\"for converting our local variable into a gloabal variable . we will use global keyword for it .\n",
    "Normally, when you create a variable inside a function, that variable is local, and can only be \n",
    "used inside that function.\n",
    "To create a global variable inside a function, you can use the global keyword.\"\"\""
   ]
  },
  {
   "cell_type": "code",
   "execution_count": null,
   "metadata": {},
   "outputs": [],
   "source": [
    "x=\"ram\"   #define a global varianble \n",
    "def details():\n",
    "    global x    #create a gloabal scope for our variable x\n",
    "    x=\"shyam\"  #change the local variable to global variable and change the value of global variable.\n",
    "    print(\"he is \",x)  #shyam will go there \n",
    "details()\n",
    "print(\"he is \",x)  #shyam will go there as value of global value will we changed."
   ]
  },
  {
   "cell_type": "code",
   "execution_count": null,
   "metadata": {},
   "outputs": [],
   "source": [
    "def  user_val():\n",
    "    global x,y\n",
    "    x=int(input(\"enter num1=\"))\n",
    "    y=int(input(\"enter num2=\"))\n",
    "def auto_calcu():\n",
    "    print(\"x+y=\",x+y)\n",
    "    print(\"x*y\",x*y)\n",
    "    print(\"x/y\",x/y)\n",
    "    print(\"x-y\",x-y)\n",
    "user_val()\n",
    "auto_calcu()"
   ]
  },
  {
   "cell_type": "code",
   "execution_count": null,
   "metadata": {},
   "outputs": [],
   "source": []
  },
  {
   "cell_type": "code",
   "execution_count": null,
   "metadata": {},
   "outputs": [],
   "source": []
  }
 ],
 "metadata": {
  "kernelspec": {
   "display_name": "Python 3",
   "language": "python",
   "name": "python3"
  },
  "language_info": {
   "codemirror_mode": {
    "name": "ipython",
    "version": 3
   },
   "file_extension": ".py",
   "mimetype": "text/x-python",
   "name": "python",
   "nbconvert_exporter": "python",
   "pygments_lexer": "ipython3",
   "version": "3.7.6"
  }
 },
 "nbformat": 4,
 "nbformat_minor": 4
}
