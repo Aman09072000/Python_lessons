{
 "cells": [
  {
   "cell_type": "markdown",
   "metadata": {},
   "source": [
    "# Learn_Python_with_Me"
   ]
  },
  {
   "cell_type": "markdown",
   "metadata": {},
   "source": [
    "            #By - Aman Gupta                          #Date- 29/05/20"
   ]
  },
  {
   "cell_type": "markdown",
   "metadata": {},
   "source": [
    "# Python_Dictionaries"
   ]
  },
  {
   "cell_type": "code",
   "execution_count": 1,
   "metadata": {},
   "outputs": [
    {
     "name": "stdout",
     "output_type": "stream",
     "text": [
      "{'brand': 'Ford', 'model': 'Mustang', 'year': 1964}\n"
     ]
    }
   ],
   "source": [
    "\"\"\"A dictionary is a collection which is unordered, changeable and indexed. In Python \n",
    "dictionaries are written with curly brackets, and they have keys and values.\"\"\"\n",
    "\n",
    "thisdict = {\n",
    "  \"brand\": \"Ford\",\n",
    "  \"model\": \"Mustang\",\n",
    "  \"year\": 1964\n",
    "}\n",
    "print(thisdict)"
   ]
  },
  {
   "cell_type": "code",
   "execution_count": 3,
   "metadata": {},
   "outputs": [
    {
     "name": "stdout",
     "output_type": "stream",
     "text": [
      "Mustang\n",
      "Mustang\n"
     ]
    }
   ],
   "source": [
    "#Accessing Items:-\n",
    "\"\"\"You can access the items of a dictionary by referring to its key name, inside square\n",
    "brackets:\"\"\"\n",
    "\n",
    "x = thisdict[\"model\"]\n",
    "print(x)\n",
    "\n",
    "#There is also a method called get() that will give you the same result:\n",
    "x = thisdict.get(\"model\")\n",
    "print(x)"
   ]
  },
  {
   "cell_type": "code",
   "execution_count": 5,
   "metadata": {},
   "outputs": [
    {
     "name": "stdout",
     "output_type": "stream",
     "text": [
      "{'brand': 'Ford', 'model': 'Mustang', 'year': 2018}\n"
     ]
    }
   ],
   "source": [
    "#Change Values:-\n",
    "\"\"\"You can change the value of a specific item by referring to its key name:\"\"\"\n",
    "thisdict = {\n",
    "  \"brand\": \"Ford\",\n",
    "  \"model\": \"Mustang\",\n",
    "  \"year\": 1964\n",
    "}\n",
    "thisdict[\"year\"] = 2018\n",
    "print(thisdict)"
   ]
  },
  {
   "cell_type": "code",
   "execution_count": null,
   "metadata": {},
   "outputs": [],
   "source": [
    "#Loop Through a Dictionary\n",
    "\"\"\"You can loop through a dictionary by using a for loop.\n",
    "When looping through a dictionary, the return value are the keys of the dictionary, but there\n",
    "are methods to return the values as well.\"\"\"\n",
    "\n",
    "for x in thisdict:\n",
    "  print(x)              #Print all key names in the dictionary, one by one\n",
    "\n",
    "\n",
    "for x in thisdict:\n",
    "  print(thisdict[x])     #Print all values in the dictionary, one by one\n",
    "\n",
    "for x in thisdict.values():\n",
    "  print(x)                #You can also use the values() method to return values of a dictionary\n",
    "\n",
    "for x, y in thisdict.items():\n",
    "  print(x, y)              #Loop through both keys and values, by using the items() method\n"
   ]
  },
  {
   "cell_type": "code",
   "execution_count": null,
   "metadata": {},
   "outputs": [],
   "source": [
    "#Check if Key Exists\n",
    "\"\"\"To determine if a specified key is present in a dictionary use the in keyword:\"\"\"\n",
    "\n",
    "thisdict = {\n",
    "  \"brand\": \"Ford\",\n",
    "  \"model\": \"Mustang\",\n",
    "  \"year\": 1964\n",
    "}\n",
    "if \"model\" in thisdict:\n",
    "  print(\"Yes, 'model' is one of the keys in the thisdict dictionary\")\n",
    "\n",
    "\n",
    "#Dictionary Length\n",
    "print(len(thisdict))\n",
    "\n",
    "\n",
    "#Adding Items\n",
    "\"\"\"Adding an item to the dictionary is done by using a new index key and assigning a value \n",
    "to it:\"\"\"\n",
    "\n",
    "thisdict = {\n",
    "  \"brand\": \"Ford\",\n",
    "  \"model\": \"Mustang\",\n",
    "  \"year\": 1964\n",
    "}\n",
    "thisdict[\"color\"] = \"red\"\n",
    "print(thisdict)\n",
    "\n",
    "\n",
    "#Removing Items\n",
    "\"\"\"There are several methods to remove items from a dictionary:\"\"\"\n",
    "\n",
    "thisdict = {\n",
    "  \"brand\": \"Ford\",\n",
    "  \"model\": \"Mustang\",\n",
    "  \"year\": 1964\n",
    "}\n",
    "thisdict.pop(\"model\")    #The pop() method removes the item with the specified key name\n",
    "print(thisdict)\n",
    "\n",
    "\n",
    "thisdict.popitem()     #The popitem() method removes the last inserted item \n",
    "print(thisdict)\n",
    "\n",
    "\n",
    "del thisdict[\"model\"]   #The del keyword removes the item with the specified key name\n",
    "print(thisdict)\n",
    "\n",
    "del thisdict     #The del keyword can also delete the dictionary completely\n",
    "\n",
    "thisdict = {\n",
    "  \"brand\": \"Ford\",\n",
    "  \"model\": \"Mustang\",\n",
    "  \"year\": 1964\n",
    "}\n",
    "thisdict.clear()        #The clear() method empties the dictionary\n",
    "print(thisdict)"
   ]
  },
  {
   "cell_type": "code",
   "execution_count": null,
   "metadata": {},
   "outputs": [],
   "source": [
    "#Copy a Dictionary\n",
    "\n",
    "thisdict = {\n",
    "  \"brand\": \"Ford\",\n",
    "  \"model\": \"Mustang\",\n",
    "  \"year\": 1964\n",
    "}\n",
    "mydict = thisdict.copy()     #Make a copy of a dictionary with the copy() method\n",
    "print(mydict)\n",
    "\n",
    "\n",
    "mydict = dict(thisdict)     #Make a copy of a dictionary with the dict() function:\n",
    "print(mydict)"
   ]
  },
  {
   "cell_type": "code",
   "execution_count": null,
   "metadata": {},
   "outputs": [],
   "source": [
    "#Nested Dictionaries\n",
    "\n",
    "\"\"\" dictionary can also contain many dictionaries, this is called nested dictionaries\"\"\"\n",
    "\n",
    "myfamily = {\n",
    "  \"child1\" : {\n",
    "    \"name\" : \"Emil\",\n",
    "    \"year\" : 2004\n",
    "  },\n",
    "  \"child2\" : {\n",
    "    \"name\" : \"Tobias\",\n",
    "    \"year\" : 2007\n",
    "  },\n",
    "  \"child3\" : {\n",
    "    \"name\" : \"Linus\",\n",
    "    \"year\" : 2011\n",
    "  }\n",
    "}\n",
    "\n",
    "#or by\n",
    "\n",
    "  \"name\" : \"Emil\",\n",
    "  \"year\" : 2004\n",
    "}\n",
    "child2 = {\n",
    "  \"name\" : \"Tobias\",\n",
    "  \"year\" : 2007\n",
    "}\n",
    "child3 = {\n",
    "  \"name\" : \"Linus\",\n",
    "  \"year\" : 2011\n",
    "}\n",
    "\n",
    "myfamily = {\n",
    "  \"child1\" : child1,\n",
    "  \"child2\" : child2,\n",
    "  \"child3\" : child3\n",
    "}"
   ]
  },
  {
   "cell_type": "code",
   "execution_count": null,
   "metadata": {},
   "outputs": [],
   "source": [
    "#The dict() Constructor:-\n",
    "\"\"\"It is also possible to use the dict() constructor to make a new dictionary:\"\"\"\n",
    "\n",
    "thisdict = dict(brand=\"Ford\", model=\"Mustang\", year=1964)\n",
    "# note that keywords are not string literals\n",
    "# note the use of equals rather than colon for the assignment\n",
    "print(thisdict)"
   ]
  },
  {
   "cell_type": "code",
   "execution_count": null,
   "metadata": {},
   "outputs": [],
   "source": [
    "#Dictionary Methods\n",
    "#Python has a set of built-in methods that you can use on dictionaries.\n",
    "\n",
    "Method                                                           Description\n",
    "\n",
    "clear()\t                                     Removes all the elements from the dictionary\n",
    "copy()\t                                            Returns a copy of the dictionary\n",
    "fromkeys()\t                            Returns a dictionary with the specified keys and value\n",
    "get()\t                                            Returns the value of the specified key\n",
    "items()\t                           Returns a list containing a tuple for each key value pair\n",
    "keys()\t                                   Returns a list containing the dictionary's keys\n",
    "pop()\t                                      Removes the element with the specified key\n",
    "popitem()\t                                   Removes the last inserted key-value pair\n",
    "setdefault()\tReturns the value of the specified key. If the key does not exist: insert the key, with the specified value\n",
    "update()\t                                 Updates the dictionary with the specified key-value pairs\n",
    "values()\t                            Returns a list of all the values in the dictionary"
   ]
  }
 ],
 "metadata": {
  "kernelspec": {
   "display_name": "Python 3",
   "language": "python",
   "name": "python3"
  },
  "language_info": {
   "codemirror_mode": {
    "name": "ipython",
    "version": 3
   },
   "file_extension": ".py",
   "mimetype": "text/x-python",
   "name": "python",
   "nbconvert_exporter": "python",
   "pygments_lexer": "ipython3",
   "version": "3.7.6"
  }
 },
 "nbformat": 4,
 "nbformat_minor": 4
}
