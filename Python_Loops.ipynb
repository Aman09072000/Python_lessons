{
 "cells": [
  {
   "cell_type": "markdown",
   "metadata": {},
   "source": [
    "# Learn_Python_with_Me"
   ]
  },
  {
   "cell_type": "markdown",
   "metadata": {},
   "source": [
    "            #By - Aman Gupta                                                  Date- 30/05/20"
   ]
  },
  {
   "cell_type": "markdown",
   "metadata": {},
   "source": [
    "# Python_Loops."
   ]
  },
  {
   "cell_type": "code",
   "execution_count": null,
   "metadata": {},
   "outputs": [],
   "source": [
    "\"\"\"Python has two primitive loop commands:\n",
    "\n",
    "                  ->while loops\n",
    "                  ->for loops\n",
    "\"\"\""
   ]
  },
  {
   "cell_type": "markdown",
   "metadata": {},
   "source": [
    "# while_Loop :-"
   ]
  },
  {
   "cell_type": "code",
   "execution_count": null,
   "metadata": {},
   "outputs": [],
   "source": [
    "\"\"\"With the while loop we can execute a set of statements as long as a condition is true.\"\"\"\n",
    "\n",
    "i=1        #Here we can initialize the variable(it is a compulsary part to initaialize a variable )\n",
    "while i<5:  #it will continue repeat till the ststemet is true and when statement is true the loop is end.\n",
    "    print(i)\n",
    "    i +=1    # remember to increment i, or else the loop will continue forever.\n",
    "    \n",
    "\"\"\"The while loop requires relevant variables to be ready, in this example we need to define an \n",
    "   indexing variable, i, which we set to 1.\"\"\""
   ]
  },
  {
   "cell_type": "code",
   "execution_count": null,
   "metadata": {},
   "outputs": [],
   "source": [
    "#important statements:-\n",
    "\n",
    "#Break statement:-With the break statement we can stop the loop even if the while condition is true:\n",
    "i=1\n",
    "while i<4:\n",
    "    print(i)\n",
    "    if i==2:                    #when i ==2 . the loop is closed as we use  break statement.\n",
    "        print(\"break ststement is there\")\n",
    "        break\n",
    "    i+=1\n",
    "    \n",
    "    \n",
    "#continue Statement:-With it we can stop the current iteration, and continue with the next:\n",
    "i = 0\n",
    "while i < 6:\n",
    "  i += 1\n",
    "  if i == 3:\n",
    "    continue      #it will print all no except 3.\n",
    "  print(i)\n",
    "\n",
    "\n",
    "#else statement:-With it we can run a block of code once when the condition no longer is true:\n",
    "i = 1\n",
    "while i < 6:\n",
    "  print(i)\n",
    "  i += 1\n",
    "else:\n",
    "  print(\"i is no longer less than 6\")\n",
    "\n",
    "i=1\n",
    "while i<3:     #we also pass statement here\n",
    "    pass\n",
    "    i+=1"
   ]
  },
  {
   "cell_type": "markdown",
   "metadata": {},
   "source": [
    "# For_Loops:-"
   ]
  },
  {
   "cell_type": "code",
   "execution_count": null,
   "metadata": {},
   "outputs": [],
   "source": [
    "\"\"\"A for loop is used for iterating over a sequence (that is either a list, a tuple, a dictionary, \n",
    "        a set, or a string).\n",
    "\n",
    "This is less like the for keyword in other programming languages, and works more like an iterator\n",
    "method as found in other object-orientated programming languages.\n",
    "\n",
    "With the for loop we can execute a set of statements, once for each item in a list, tuple, set \n",
    "etc.\"\"\"\n",
    "\n",
    "fruits = [\"apple\", \"banana\", \"cherry\"]\n",
    "for x in fruits:                       #the for will not required an indexing variable.\n",
    "  print(x)"
   ]
  },
  {
   "cell_type": "code",
   "execution_count": null,
   "metadata": {},
   "outputs": [],
   "source": [
    "for i in\"apple\":\n",
    "    print(i)                 #apply for loop in string"
   ]
  },
  {
   "cell_type": "code",
   "execution_count": null,
   "metadata": {},
   "outputs": [],
   "source": [
    "#the statements are same for both for and ehile loop.\n",
    "for i in \"banana\":\n",
    "    if i==\"n\":\n",
    "        continue\n",
    "    print(i)\n",
    " \n",
    "for i in \"apple\":\n",
    "    if i==\"l\":\n",
    "        break\n",
    "    print(i)\n",
    "    \n",
    "for i in \"apple\":\n",
    "    pass"
   ]
  },
  {
   "cell_type": "code",
   "execution_count": null,
   "metadata": {},
   "outputs": [],
   "source": [
    "#range() Function:-\n",
    "\"\"\"To loop through a set of code a specified number of times, we can use the range() function,\n",
    "The range() function returns a sequence of numbers, starting from 0 by default, and increments \n",
    "by 1 (by default), and ends at a specified number.\"\"\"\n",
    "\n",
    "for x in range(6):\n",
    "  print(x)                 # range(6) is not the values of 0 to 6, but the values 0 to 5.\n",
    "\n",
    "\"\"\"The range() function defaults to 0 as a starting value, however it is possible to specify the\n",
    "starting value by adding a parameter: range(2, 6), which means values from 2 to 6 (but not \n",
    "including 6):\"\"\"\n",
    "\n",
    "for x in range(2, 6):\n",
    "    print(x)            #here we cangive the starting position and ending position. it is 2 and 6.\n",
    "                    #it print value from 2 to 5 it cant print 6 with it.\n",
    "    \n",
    "\n",
    "\"\"\"The range() function defaults to increment the sequence by 1, however it is possible to\n",
    "specify the increment value by adding a third parameter: range(2, 30, 3):\"\"\"\n",
    "\n",
    "for x in range(2, 30, 3):\n",
    "     print(x)           #it will print all value b/w 2 to 30 by the gaph of 3 ."
   ]
  },
  {
   "cell_type": "code",
   "execution_count": null,
   "metadata": {},
   "outputs": [],
   "source": [
    "#Nested Loops:-\n",
    "\n",
    "\"\"\"A nested loop is a loop inside a loop.\n",
    "The \"inner loop\" will be executed one time for each iteration of the \"outer loop\":\"\"\"\n",
    "\n",
    "adj = [\"red\", \"big\", \"tasty\"]     #it will rum 1 time and enter in loop\n",
    "fruits = [\"apple\", \"banana\", \"cherry\"]   #it will execute full \n",
    "for x in adj:\n",
    "    for y in fruits:\n",
    "        print(x, y)"
   ]
  },
  {
   "cell_type": "code",
   "execution_count": null,
   "metadata": {},
   "outputs": [],
   "source": [
    "for x in range(1):\n",
    "    for y in range(10):\n",
    "        print(x,y)"
   ]
  },
  {
   "cell_type": "code",
   "execution_count": null,
   "metadata": {},
   "outputs": [],
   "source": []
  }
 ],
 "metadata": {
  "kernelspec": {
   "display_name": "Python 3",
   "language": "python",
   "name": "python3"
  },
  "language_info": {
   "codemirror_mode": {
    "name": "ipython",
    "version": 3
   },
   "file_extension": ".py",
   "mimetype": "text/x-python",
   "name": "python",
   "nbconvert_exporter": "python",
   "pygments_lexer": "ipython3",
   "version": "3.7.6"
  }
 },
 "nbformat": 4,
 "nbformat_minor": 4
}
